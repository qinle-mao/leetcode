{
 "cells": [
  {
   "cell_type": "markdown",
   "metadata": {},
   "source": [
    "# 1. Selection Algorithms"
   ]
  },
  {
   "cell_type": "markdown",
   "metadata": {},
   "source": [
    "## 1.1 Selection Sort"
   ]
  },
  {
   "cell_type": "code",
   "execution_count": 1,
   "metadata": {},
   "outputs": [
    {
     "name": "stdout",
     "output_type": "stream",
     "text": [
      "[1, 2, 3, 4, 5, 6]\n"
     ]
    }
   ],
   "source": [
    "class SelectionSort(object):\n",
    "    def sort(self, nums):\n",
    "        def findMin(nums, start):\n",
    "            n = len(nums)\n",
    "            minNum, minIdx = float('inf'), -1\n",
    "            for i in range(start, n):\n",
    "                if nums[i] < minNum:\n",
    "                    minNum = nums[i]\n",
    "                    minIdx = i\n",
    "            return minNum, minIdx\n",
    "        \n",
    "        def swap(i, j):\n",
    "            tmp = nums[i]\n",
    "            nums[i] = nums[j]\n",
    "            nums[j] = tmp\n",
    "        \n",
    "        n = len(nums)\n",
    "        for i in range(n - 1):\n",
    "            _, minIdx = findMin(nums, i)\n",
    "            swap(minIdx, i)\n",
    "\n",
    "nums = [2, 5, 6, 1, 3, 4]\n",
    "SelectionSort().sort(nums)\n",
    "print(nums)"
   ]
  },
  {
   "cell_type": "markdown",
   "metadata": {},
   "source": [
    "## 1.2 Insertion Sort"
   ]
  },
  {
   "cell_type": "code",
   "execution_count": 2,
   "metadata": {},
   "outputs": [
    {
     "name": "stdout",
     "output_type": "stream",
     "text": [
      "[1, 2, 3, 4, 5, 6]\n"
     ]
    }
   ],
   "source": [
    "class InsertionSort(object):\n",
    "    def sort(self, nums):\n",
    "        n = len(nums)\n",
    "        for i in range(1, n):\n",
    "            tmp = nums[i]\n",
    "            j = i - 1\n",
    "            while j >= 0 and tmp < nums[j]:\n",
    "                nums[j + 1] = nums[j]\n",
    "                j -= 1\n",
    "            nums[j + 1] = tmp\n",
    "\n",
    "nums = [2, 5, 6, 1, 3, 4]\n",
    "InsertionSort().sort(nums)\n",
    "print(nums)"
   ]
  },
  {
   "cell_type": "markdown",
   "metadata": {},
   "source": [
    "## 1.3 Bubble Sort"
   ]
  },
  {
   "cell_type": "code",
   "execution_count": 3,
   "metadata": {},
   "outputs": [
    {
     "name": "stdout",
     "output_type": "stream",
     "text": [
      "[1, 2, 3, 4, 5, 6]\n"
     ]
    }
   ],
   "source": [
    "class BubbleSort(object):\n",
    "    def sort(self, nums):\n",
    "        def swap(i, j):\n",
    "            tmp = nums[i]\n",
    "            nums[i] = nums[j]\n",
    "            nums[j] = tmp\n",
    "        \n",
    "        n = len(nums)\n",
    "        for i in range(n - 1, -1, -1):\n",
    "            for j in range(i):\n",
    "                if nums[j] > nums[j + 1]:\n",
    "                    swap(j, j + 1)\n",
    "\n",
    "nums = [2, 5, 6, 1, 3, 4]\n",
    "BubbleSort().sort(nums)\n",
    "print(nums)"
   ]
  },
  {
   "cell_type": "markdown",
   "metadata": {},
   "source": [
    "## 1.4 Shell Sort\n",
    "![](./src/img/001.png)"
   ]
  },
  {
   "cell_type": "code",
   "execution_count": 4,
   "metadata": {},
   "outputs": [
    {
     "name": "stdout",
     "output_type": "stream",
     "text": [
      "[11, 12, 15, 17, 28, 35, 41, 58, 75, 81, 94, 95, 96]\n"
     ]
    }
   ],
   "source": [
    "class ShellSort(object):\n",
    "    def sort(self, nums):\n",
    "        n = len(nums)\n",
    "        stride = n // 2\n",
    "        while stride > 0:\n",
    "            for i in range(stride, n):\n",
    "                tmp = nums[i]\n",
    "                j = i - stride\n",
    "                while j >= 0 and tmp < nums[j]:\n",
    "                    nums[j + stride] = nums[j]\n",
    "                    j -= stride\n",
    "                nums[j + stride] = tmp\n",
    "            stride //= 2\n",
    "                    \n",
    "nums = [81, 94, 11, 96, 12, 35, 17, 95, 28, 58, 41, 75, 15]\n",
    "ShellSort().sort(nums)\n",
    "print(nums)"
   ]
  },
  {
   "cell_type": "markdown",
   "metadata": {},
   "source": [
    "## 1.5 Merge Sort\n",
    "![](./src/img/002.png)"
   ]
  },
  {
   "cell_type": "code",
   "execution_count": 5,
   "metadata": {},
   "outputs": [
    {
     "name": "stdout",
     "output_type": "stream",
     "text": [
      "[11, 12, 15, 17, 28, 35, 41, 58, 75, 81, 94, 95, 96]\n"
     ]
    }
   ],
   "source": [
    "class MergeSort(object):\n",
    "    def sort(self, nums):\n",
    "        def merge(leftHead, rightHead, rightTail):\n",
    "            tmpArr = []\n",
    "            ptrLeft, ptrRight = leftHead, rightHead\n",
    "            while ptrLeft <= rightHead - 1 and ptrRight <= rightTail:\n",
    "                if nums[ptrLeft] < nums[ptrRight]:\n",
    "                    tmpArr.append(nums[ptrLeft])\n",
    "                    ptrLeft += 1\n",
    "                else:\n",
    "                    tmpArr.append(nums[ptrRight])\n",
    "                    ptrRight += 1\n",
    "            tmpArr.extend(nums[ptrLeft:rightHead])\n",
    "            tmpArr.extend(nums[ptrRight:rightTail+1])\n",
    "            nums[leftHead:rightTail+1] = [_ for _ in tmpArr]\n",
    "        \n",
    "        def step(left, right):\n",
    "            if left < right:\n",
    "                center = (left + right) // 2\n",
    "                step(left, center)\n",
    "                step(center+1, right)\n",
    "                merge(left, center+1, right)\n",
    "        \n",
    "        step(0, len(nums)-1)\n",
    "\n",
    "nums = [81, 94, 11, 96, 12, 35, 17, 95, 28, 58, 41, 75, 15]\n",
    "MergeSort().sort(nums)\n",
    "print(nums)"
   ]
  },
  {
   "cell_type": "markdown",
   "metadata": {},
   "source": [
    "## 1.6 Heap Sort\n",
    "![](./src/img/003.png)"
   ]
  },
  {
   "cell_type": "code",
   "execution_count": 6,
   "metadata": {},
   "outputs": [
    {
     "name": "stdout",
     "output_type": "stream",
     "text": [
      "[11, 12, 15, 17, 28, 35, 41, 58, 75, 81, 94, 95, 96]\n"
     ]
    }
   ],
   "source": [
    "class HeapSort(object):\n",
    "    def sort(self, nums):\n",
    "        def swap(i, j):\n",
    "            tmp = nums[i]\n",
    "            nums[i] = nums[j]\n",
    "            nums[j] = tmp\n",
    "\n",
    "        def percDown(pos, n):\n",
    "            while pos < n:\n",
    "                child = -1\n",
    "                leftChild, rightChild = pos * 2 + 1, pos * 2 + 2\n",
    "                if leftChild >= n:\n",
    "                    break\n",
    "                elif rightChild >= n or nums[leftChild] > nums[rightChild]:\n",
    "                    child = leftChild\n",
    "                else:\n",
    "                    child = rightChild\n",
    "                if nums[pos] < nums[child]:\n",
    "                    swap(pos, child)\n",
    "                    pos = child\n",
    "                else:\n",
    "                    break\n",
    "\n",
    "        n = len(nums)\n",
    "        # buliding max heap\n",
    "        for pos in range(n // 2, -1, -1):\n",
    "            percDown(pos, n)\n",
    "        # delete max element -> put max element at the end\n",
    "        for end in range(n - 1, -1, -1):\n",
    "            swap(0, end)\n",
    "            percDown(0, end)\n",
    "\n",
    "nums = [81, 94, 11, 96, 12, 35, 17, 95, 28, 58, 41, 75, 15]\n",
    "HeapSort().sort(nums)\n",
    "print(nums)"
   ]
  },
  {
   "cell_type": "markdown",
   "metadata": {},
   "source": [
    "## 1.7 Quick Sort\n",
    "![](./src/img/004.png)"
   ]
  },
  {
   "cell_type": "code",
   "execution_count": 7,
   "metadata": {},
   "outputs": [
    {
     "name": "stdout",
     "output_type": "stream",
     "text": [
      "[0, 1, 2, 3, 4, 5, 6, 7, 8, 9]\n"
     ]
    }
   ],
   "source": [
    "class QuickSort(object):\n",
    "    def sort(self, nums):\n",
    "        def swap(i, j):\n",
    "            tmp = nums[i]\n",
    "            nums[i] = nums[j]\n",
    "            nums[j] = tmp\n",
    "\n",
    "        # choosing the pivot\n",
    "        def median3(left, right):\n",
    "            center = (left + right) // 2\n",
    "            if (nums[left] - nums[center]) * (nums[left] - nums[right]) < 0:\n",
    "                return left\n",
    "            elif (nums[center] - nums[left]) * (nums[center] - nums[right]) < 0:\n",
    "                return center\n",
    "            else:\n",
    "                return right\n",
    "\n",
    "        # strategey taken when right - left <= CUTOFF\n",
    "        def insertionSort(left, right):\n",
    "            for i in range(left + 1, right + 1):\n",
    "                tmp = nums[i]\n",
    "                j = i\n",
    "                while j > 0:\n",
    "                    if tmp < nums[j-1]:\n",
    "                        nums[j] = nums[j-1]\n",
    "                        j -= 1\n",
    "                    else:\n",
    "                        break\n",
    "                nums[j] = tmp\n",
    "        \n",
    "        CUTOFF = 3\n",
    "        def step(left, right):\n",
    "            if left + CUTOFF < right:\n",
    "                pivot = median3(left, right)\n",
    "                pivotNum = nums[pivot]\n",
    "                swap(pivot, right)\n",
    "                # find the place for the pivot\n",
    "                i, j = left, right - 1\n",
    "                while True:\n",
    "                    while nums[i] < pivotNum:\n",
    "                        i += 1\n",
    "                    while nums[j] > pivotNum:\n",
    "                        j -= 1\n",
    "                    if i < j:\n",
    "                        swap(i, j)\n",
    "                    else:\n",
    "                        break\n",
    "                swap(i, right)\n",
    "                step(left, i - 1)\n",
    "                step(i + 1, right)\n",
    "            else:\n",
    "                insertionSort(left, right)\n",
    "        \n",
    "        step(0, len(nums)-1)\n",
    "              \n",
    "nums = [8, 1, 4, 9, 6, 3, 5, 2, 7, 0]\n",
    "QuickSort().sort(nums)\n",
    "print(nums)"
   ]
  },
  {
   "cell_type": "markdown",
   "metadata": {},
   "source": [
    "# 2. Non-Selection Algorithms"
   ]
  },
  {
   "cell_type": "markdown",
   "metadata": {},
   "source": [
    "## 2.1 Counting Sort"
   ]
  },
  {
   "cell_type": "code",
   "execution_count": 8,
   "metadata": {},
   "outputs": [
    {
     "name": "stdout",
     "output_type": "stream",
     "text": [
      "[0, 1, 2, 3, 4, 5, 6, 7, 8, 9]\n"
     ]
    }
   ],
   "source": [
    "class CountingSort(object):\n",
    "    def sort(self, nums):\n",
    "        MIN_NUM, MAX_NUM = 0, 99\n",
    "        count = [0 for _ in range(MIN_NUM, MAX_NUM+1)]\n",
    "        for i in range(len(nums)):\n",
    "            count[nums[i]] += 1\n",
    "        nums[:] = []\n",
    "        for i in range(len(count)):\n",
    "            nums.extend([(MIN_NUM + i) for _ in range(count[i])])\n",
    "\n",
    "nums = [8, 1, 4, 9, 6, 3, 5, 2, 7, 0]\n",
    "CountingSort().sort(nums)\n",
    "print(nums)"
   ]
  },
  {
   "cell_type": "markdown",
   "metadata": {},
   "source": [
    "## 2.2 Bucket Sort"
   ]
  },
  {
   "cell_type": "code",
   "execution_count": 9,
   "metadata": {},
   "outputs": [
    {
     "name": "stdout",
     "output_type": "stream",
     "text": [
      "[12, 17, 21, 23, 26, 39, 68, 72, 78, 94]\n"
     ]
    }
   ],
   "source": [
    "class BucketSort(object):\n",
    "    def sort(self, nums):\n",
    "        def insert(num, l):\n",
    "            for i in range(len(l)):\n",
    "                if num <= l[i]:\n",
    "                    l.insert(i, num)\n",
    "                    return\n",
    "            l.append(num)\n",
    "        # suppose all numbers are in [0, 100) and we have 5 buckets\n",
    "        BUCKET_NUM, BUCKET_RANGE = 5, 20\n",
    "        buckets = [[] for _ in range(BUCKET_NUM)]\n",
    "        for num in nums:\n",
    "            insert(num, buckets[num//BUCKET_RANGE])\n",
    "        tmp = []\n",
    "        for bucket in buckets:\n",
    "            tmp.extend(bucket)\n",
    "        nums[:] = [_ for _ in tmp]\n",
    "\n",
    "nums = [78, 17, 39, 26, 72, 94, 21, 12, 23, 68]\n",
    "BucketSort().sort(nums)\n",
    "print(nums)"
   ]
  },
  {
   "cell_type": "markdown",
   "metadata": {},
   "source": [
    "## 2.3 Radix Sort\n",
    "Rather than comparing elements directly, Radix Sort distributes the elements into buckets based on each digit’s value. By **repeatedly sorting the elements by their significant digits**, from the least significant to the most significant, Radix Sort achieves the final sorted order."
   ]
  },
  {
   "cell_type": "code",
   "execution_count": 10,
   "metadata": {},
   "outputs": [
    {
     "name": "stdout",
     "output_type": "stream",
     "text": [
      "[2, 24, 45, 66, 75, 90, 170, 802]\n"
     ]
    }
   ],
   "source": [
    "class RadixSort(object):\n",
    "    def sort(self, nums):\n",
    "        n = len(nums)\n",
    "        BUCKET_NUM = 10\n",
    "        buckets = [[] for _ in range(BUCKET_NUM)]\n",
    "        radix = BUCKET_NUM\n",
    "        for num in nums:\n",
    "            buckets[num%radix].append(num)\n",
    "        while len(buckets[0]) != n:\n",
    "            newBuckets = [[] for _ in range(BUCKET_NUM)]\n",
    "            for bucket in buckets:\n",
    "                for num in bucket:\n",
    "                    tmp = num % (radix * 10)\n",
    "                    newBuckets[(tmp-tmp%radix)//radix].append(num)\n",
    "            buckets[:] = [[_ for _ in l] for l in newBuckets]\n",
    "            radix *= BUCKET_NUM\n",
    "        nums[:] = [_ for _ in buckets[0]]\n",
    "\n",
    "nums = [170, 90, 802, 2, 24, 45, 75, 66]\n",
    "RadixSort().sort(nums)\n",
    "print(nums)"
   ]
  }
 ],
 "metadata": {
  "kernelspec": {
   "display_name": "Python 3",
   "language": "python",
   "name": "python3"
  },
  "language_info": {
   "codemirror_mode": {
    "name": "ipython",
    "version": 3
   },
   "file_extension": ".py",
   "mimetype": "text/x-python",
   "name": "python",
   "nbconvert_exporter": "python",
   "pygments_lexer": "ipython3",
   "version": "3.8.10"
  }
 },
 "nbformat": 4,
 "nbformat_minor": 2
}
