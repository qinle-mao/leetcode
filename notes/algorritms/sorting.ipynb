{
 "cells": [
  {
   "cell_type": "markdown",
   "metadata": {},
   "source": [
    "# 1. Selection Sort"
   ]
  },
  {
   "cell_type": "code",
   "execution_count": 1,
   "metadata": {},
   "outputs": [
    {
     "name": "stdout",
     "output_type": "stream",
     "text": [
      "[1, 2, 3, 4, 5, 6]\n"
     ]
    }
   ],
   "source": [
    "class SelectionSort(object):\n",
    "    def sort(self, nums):\n",
    "        def findMin(nums, start):\n",
    "            n = len(nums)\n",
    "            minNum, minIdx = float('inf'), -1\n",
    "            for i in range(start, n):\n",
    "                if nums[i] < minNum:\n",
    "                    minNum = nums[i]\n",
    "                    minIdx = i\n",
    "            return minNum, minIdx\n",
    "        \n",
    "        def swap(i, j):\n",
    "            tmp = nums[i]\n",
    "            nums[i] = nums[j]\n",
    "            nums[j] = tmp\n",
    "        \n",
    "        n = len(nums)\n",
    "        for i in range(n - 1):\n",
    "            _, minIdx = findMin(nums, i)\n",
    "            swap(minIdx, i)\n",
    "\n",
    "nums = [2, 5, 6, 1, 3, 4]\n",
    "SelectionSort().sort(nums)\n",
    "print(nums)"
   ]
  },
  {
   "cell_type": "markdown",
   "metadata": {},
   "source": [
    "# 2. Insertion Sort"
   ]
  },
  {
   "cell_type": "code",
   "execution_count": 2,
   "metadata": {},
   "outputs": [
    {
     "name": "stdout",
     "output_type": "stream",
     "text": [
      "[1, 2, 3, 4, 5, 6]\n"
     ]
    }
   ],
   "source": [
    "class InsertionSort(object):\n",
    "    def sort(self, nums):\n",
    "        n = len(nums)\n",
    "        for i in range(1, n):\n",
    "            tmp = nums[i]\n",
    "            j = i - 1\n",
    "            while j >= 0 and tmp < nums[j]:\n",
    "                nums[j + 1] = nums[j]\n",
    "                j -= 1\n",
    "            nums[j + 1] = tmp\n",
    "\n",
    "nums = [2, 5, 6, 1, 3, 4]\n",
    "InsertionSort().sort(nums)\n",
    "print(nums)"
   ]
  },
  {
   "cell_type": "markdown",
   "metadata": {},
   "source": [
    "# 3. Bubble Sort"
   ]
  },
  {
   "cell_type": "code",
   "execution_count": 3,
   "metadata": {},
   "outputs": [
    {
     "name": "stdout",
     "output_type": "stream",
     "text": [
      "[1, 2, 3, 4, 5, 6]\n"
     ]
    }
   ],
   "source": [
    "class BubbleSort(object):\n",
    "    def sort(self, nums):\n",
    "        def swap(i, j):\n",
    "            tmp = nums[i]\n",
    "            nums[i] = nums[j]\n",
    "            nums[j] = tmp\n",
    "        \n",
    "        n = len(nums)\n",
    "        for i in range(n - 1, -1, -1):\n",
    "            for j in range(i):\n",
    "                if nums[j] > nums[j + 1]:\n",
    "                    swap(j, j + 1)\n",
    "\n",
    "nums = [2, 5, 6, 1, 3, 4]\n",
    "BubbleSort().sort(nums)\n",
    "print(nums)"
   ]
  },
  {
   "cell_type": "markdown",
   "metadata": {},
   "source": [
    "# 4. Shell Sort\n",
    "![](./src/img/001.png)"
   ]
  },
  {
   "cell_type": "code",
   "execution_count": 4,
   "metadata": {},
   "outputs": [
    {
     "name": "stdout",
     "output_type": "stream",
     "text": [
      "[11, 12, 15, 17, 28, 35, 41, 58, 75, 81, 94, 95, 96]\n"
     ]
    }
   ],
   "source": [
    "class ShellSort(object):\n",
    "    def sort(self, nums):\n",
    "        n = len(nums)\n",
    "        stride = n // 2\n",
    "        while stride > 0:\n",
    "            for i in range(stride, n):\n",
    "                tmp = nums[i]\n",
    "                j = i - stride\n",
    "                while j >= 0 and tmp < nums[j]:\n",
    "                    nums[j + stride] = nums[j]\n",
    "                    j -= stride\n",
    "                nums[j + stride] = tmp\n",
    "            stride //= 2\n",
    "                    \n",
    "nums = [81, 94, 11, 96, 12, 35, 17, 95, 28, 58, 41, 75, 15]\n",
    "ShellSort().sort(nums)\n",
    "print(nums)"
   ]
  },
  {
   "cell_type": "markdown",
   "metadata": {},
   "source": [
    "# 5. Merge Sort"
   ]
  },
  {
   "cell_type": "code",
   "execution_count": null,
   "metadata": {},
   "outputs": [],
   "source": [
    "class MergeSort(object):\n",
    "    def sort(self, nums):\n",
    "        return\n",
    "\n",
    "nums = [81, 94, 11, 96, 12, 35, 17, 95, 28, 58, 41, 75, 15]\n",
    "MergeSort().sort(nums)\n",
    "print(nums)"
   ]
  },
  {
   "cell_type": "markdown",
   "metadata": {},
   "source": [
    "# 6. Heap Sort"
   ]
  }
 ],
 "metadata": {
  "kernelspec": {
   "display_name": "Python 3",
   "language": "python",
   "name": "python3"
  },
  "language_info": {
   "codemirror_mode": {
    "name": "ipython",
    "version": 3
   },
   "file_extension": ".py",
   "mimetype": "text/x-python",
   "name": "python",
   "nbconvert_exporter": "python",
   "pygments_lexer": "ipython3",
   "version": "3.8.10"
  }
 },
 "nbformat": 4,
 "nbformat_minor": 2
}
