{
 "cells": [
  {
   "cell_type": "markdown",
   "metadata": {},
   "source": [
    "## 1. Graph Definition"
   ]
  },
  {
   "cell_type": "code",
   "execution_count": 1,
   "metadata": {},
   "outputs": [],
   "source": [
    "class Vertex(object):\n",
    "    def __init__(self, key):\n",
    "        self.key = key\n",
    "        self.conns = {}\n",
    "    \n",
    "    def addConnection(self, key, weight):\n",
    "        self.conns[key] = weight\n",
    "\n",
    "class Graph(object): # weighted + directed\n",
    "    def __init__(self):\n",
    "        self.vertices = []\n",
    "\n",
    "    def get(self, key):\n",
    "        res = [v for v in self.vertices if v.key == key]\n",
    "        if len(res) == 0:\n",
    "            return None\n",
    "        return res[0]\n",
    "    \n",
    "    def addVertex(self, key):\n",
    "        self.vertices.append(Vertex(key))\n",
    "\n",
    "    def addEdge(self, keySrc, keyDst, weight=1):\n",
    "        if self.get(keySrc) == None:\n",
    "            self.addVertex(keySrc)\n",
    "        if self.get(keyDst) == None:\n",
    "            self.addVertex(keyDst)\n",
    "        self.get(keySrc).addConnection(keyDst, weight)"
   ]
  },
  {
   "cell_type": "markdown",
   "metadata": {},
   "source": [
    "## 2. Graph Traversals\n",
    "### 2.1 Depth First Search (DFS)"
   ]
  },
  {
   "cell_type": "code",
   "execution_count": 2,
   "metadata": {},
   "outputs": [],
   "source": [
    "def DFS(graph:Graph, start=0):\n",
    "    def step(key, res:list, visited:list):\n",
    "        res.append(key)\n",
    "        visited.append(key)\n",
    "        for k in graph.get(key).conns.keys():\n",
    "            if k not in visited:\n",
    "                step(k, res, visited)\n",
    "    res, visited = [], []\n",
    "    step(start, res, visited)\n",
    "    return res"
   ]
  },
  {
   "cell_type": "code",
   "execution_count": 3,
   "metadata": {},
   "outputs": [
    {
     "name": "stdout",
     "output_type": "stream",
     "text": [
      "[2, 0, 1, 3]\n"
     ]
    }
   ],
   "source": [
    "graph = Graph()  \n",
    "graph.addEdge(0, 1)\n",
    "graph.addEdge(0, 2)\n",
    "graph.addEdge(1, 2)\n",
    "graph.addEdge(2, 0)\n",
    "graph.addEdge(2, 3)\n",
    "graph.addEdge(3, 3)\n",
    "print(DFS(graph, 2))"
   ]
  },
  {
   "cell_type": "markdown",
   "metadata": {},
   "source": [
    "### 2.2 Breadth First Search (BFS)"
   ]
  },
  {
   "cell_type": "code",
   "execution_count": 4,
   "metadata": {},
   "outputs": [],
   "source": [
    "def BFS(graph:Graph, start=0):\n",
    "    from collections import deque\n",
    "    res, visited = [], []\n",
    "    queue = deque()\n",
    "    queue.append(start)\n",
    "    visited.append(start)\n",
    "    while len(queue) > 0:\n",
    "        key = queue.popleft()\n",
    "        res.append(key)\n",
    "        for k in graph.get(key).conns.keys():\n",
    "            if k not in visited:\n",
    "                queue.append(k)\n",
    "                visited.append(k)\n",
    "    return res"
   ]
  },
  {
   "cell_type": "code",
   "execution_count": 5,
   "metadata": {},
   "outputs": [
    {
     "name": "stdout",
     "output_type": "stream",
     "text": [
      "[2, 0, 3, 1]\n"
     ]
    }
   ],
   "source": [
    "graph = Graph()  \n",
    "graph.addEdge(0, 1)\n",
    "graph.addEdge(0, 2)\n",
    "graph.addEdge(1, 2)\n",
    "graph.addEdge(2, 0)\n",
    "graph.addEdge(2, 3)\n",
    "graph.addEdge(3, 3)\n",
    "print(BFS(graph, 2))"
   ]
  },
  {
   "cell_type": "markdown",
   "metadata": {},
   "source": [
    "### 3.3 Topological Sort\n",
    "A topological ordering is not possible if the graph has a cycle."
   ]
  },
  {
   "cell_type": "code",
   "execution_count": 6,
   "metadata": {},
   "outputs": [],
   "source": [
    "def topSort(graph:Graph):\n",
    "    def getIndegrees(indegrees):\n",
    "        for v in graph.vertices:\n",
    "            indegrees[v.key] = 0\n",
    "        for v in graph.vertices:\n",
    "            for k in v.conns.keys():\n",
    "                indegrees[k] += 1\n",
    "    \n",
    "    from collections import deque\n",
    "    res = []\n",
    "    queue = deque()\n",
    "    # get the indegree of each vertex\n",
    "    indegrees = {}\n",
    "    getIndegrees(indegrees)\n",
    "    # find the vertices with indegree 0\n",
    "    for v in graph.vertices:\n",
    "        if indegrees[v.key] == 0:\n",
    "            queue.append(v.key)\n",
    "    while len(queue) > 0:\n",
    "        # remove the 0-vertex\n",
    "        tmp = queue.popleft()\n",
    "        res.append(tmp)\n",
    "        # update the neighbors then push the new 0-vertices\n",
    "        for k in graph.get(tmp).conns.keys():\n",
    "            indegrees[k] -= 1\n",
    "            if indegrees[k] == 0:\n",
    "                queue.append(k)\n",
    "    if len(res) != len(graph.vertices):\n",
    "        return None\n",
    "    return res"
   ]
  },
  {
   "cell_type": "code",
   "execution_count": 7,
   "metadata": {},
   "outputs": [
    {
     "name": "stdout",
     "output_type": "stream",
     "text": [
      "[1, 2, 5, 4, 3, 7, 6]\n"
     ]
    }
   ],
   "source": [
    "graph = Graph()\n",
    "graph.addEdge(1, 2)\n",
    "graph.addEdge(1, 3)\n",
    "graph.addEdge(1, 4)\n",
    "graph.addEdge(2, 4)\n",
    "graph.addEdge(2, 5)\n",
    "graph.addEdge(3, 6)\n",
    "graph.addEdge(4, 3)\n",
    "graph.addEdge(4, 6)\n",
    "graph.addEdge(4, 7)\n",
    "graph.addEdge(5, 4)\n",
    "graph.addEdge(5, 7)\n",
    "graph.addEdge(7, 6)\n",
    "print(topSort(graph))"
   ]
  },
  {
   "cell_type": "markdown",
   "metadata": {},
   "source": [
    "## 3. Shortest-Path Algorithms\n",
    "### 3.1 Unweighted Shortest Path"
   ]
  },
  {
   "cell_type": "code",
   "execution_count": null,
   "metadata": {},
   "outputs": [],
   "source": []
  }
 ],
 "metadata": {
  "kernelspec": {
   "display_name": "Python 3",
   "language": "python",
   "name": "python3"
  },
  "language_info": {
   "codemirror_mode": {
    "name": "ipython",
    "version": 3
   },
   "file_extension": ".py",
   "mimetype": "text/x-python",
   "name": "python",
   "nbconvert_exporter": "python",
   "pygments_lexer": "ipython3",
   "version": "3.8.10"
  }
 },
 "nbformat": 4,
 "nbformat_minor": 2
}
