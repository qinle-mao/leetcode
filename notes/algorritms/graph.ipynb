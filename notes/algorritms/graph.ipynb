{
 "cells": [
  {
   "cell_type": "markdown",
   "metadata": {},
   "source": [
    "## 1. Graph Definition\n",
    "For weighted and directed graph:"
   ]
  },
  {
   "cell_type": "code",
   "execution_count": 1,
   "metadata": {},
   "outputs": [],
   "source": [
    "class Vertex(object):\n",
    "    def __init__(self, key):\n",
    "        self.key = key\n",
    "        self.conns = {}\n",
    "    \n",
    "    def addConnection(self, key, w):\n",
    "        self.conns[key] = w\n",
    "\n",
    "class Graph(object):\n",
    "    def __init__(self):\n",
    "        self.vertices = []\n",
    "    \n",
    "    def addVertex(self, key):\n",
    "        self.vertices.append(Vertex(key))\n",
    "\n",
    "    def getVertex(self, key):\n",
    "        res = [v for v in self.vertices if v.key == key]\n",
    "        if len(res) == 0:\n",
    "            return None\n",
    "        return res[0]\n",
    "\n",
    "    def addEdge(self, k1, k2, w=1):\n",
    "        if self.getVertex(k1) == None:\n",
    "            self.addVertex(k1)\n",
    "        if self.getVertex(k2) == None:\n",
    "            self.addVertex(k2)\n",
    "        self.getVertex(k1).addConnection(k2, w)\n"
   ]
  },
  {
   "cell_type": "markdown",
   "metadata": {},
   "source": [
    "## 2. Graph Traversals\n",
    "### 2.1 Depth First Search (DFS)"
   ]
  },
  {
   "cell_type": "code",
   "execution_count": 2,
   "metadata": {},
   "outputs": [
    {
     "name": "stdout",
     "output_type": "stream",
     "text": [
      "[2, 0, 1, 3]\n"
     ]
    }
   ],
   "source": [
    "def DFS(graph:Graph, start=0):\n",
    "    def step(key, res:list, visited:list):\n",
    "        res.append(key)\n",
    "        visited.append(key)\n",
    "        for k in graph.getVertex(key).conns.keys():\n",
    "            if k not in visited:\n",
    "                step(k, res, visited)\n",
    "    res, visited = [], []\n",
    "    step(start, res, visited)\n",
    "    return res\n",
    "\n",
    "graph = Graph()  \n",
    "graph.addEdge(0, 1)\n",
    "graph.addEdge(0, 2)\n",
    "graph.addEdge(1, 2)\n",
    "graph.addEdge(2, 0)\n",
    "graph.addEdge(2, 3)\n",
    "graph.addEdge(3, 3)\n",
    "print(DFS(graph, 2))"
   ]
  },
  {
   "cell_type": "markdown",
   "metadata": {},
   "source": [
    "### 2.2 Breadth First Search (BFS)"
   ]
  },
  {
   "cell_type": "code",
   "execution_count": 3,
   "metadata": {},
   "outputs": [
    {
     "name": "stdout",
     "output_type": "stream",
     "text": [
      "[2, 0, 3, 1]\n"
     ]
    }
   ],
   "source": [
    "def BFS(graph:Graph, start=0):\n",
    "    from collections import deque\n",
    "    res, visited = [], []\n",
    "    queue = deque()\n",
    "    queue.append(start)\n",
    "    visited.append(start)\n",
    "    while len(queue) > 0:\n",
    "        key = queue.popleft()\n",
    "        res.append(key)\n",
    "        for k in graph.getVertex(key).conns.keys():\n",
    "            if k not in visited:\n",
    "                queue.append(k)\n",
    "                visited.append(k)\n",
    "    return res\n",
    "\n",
    "graph = Graph()  \n",
    "graph.addEdge(0, 1)\n",
    "graph.addEdge(0, 2)\n",
    "graph.addEdge(1, 2)\n",
    "graph.addEdge(2, 0)\n",
    "graph.addEdge(2, 3)\n",
    "graph.addEdge(3, 3)\n",
    "print(BFS(graph, 2))"
   ]
  }
 ],
 "metadata": {
  "kernelspec": {
   "display_name": "Python 3",
   "language": "python",
   "name": "python3"
  },
  "language_info": {
   "codemirror_mode": {
    "name": "ipython",
    "version": 3
   },
   "file_extension": ".py",
   "mimetype": "text/x-python",
   "name": "python",
   "nbconvert_exporter": "python",
   "pygments_lexer": "ipython3",
   "version": "3.8.10"
  }
 },
 "nbformat": 4,
 "nbformat_minor": 2
}
