{
 "cells": [
  {
   "cell_type": "markdown",
   "metadata": {},
   "source": [
    "## 1. Graph Definition"
   ]
  },
  {
   "cell_type": "code",
   "execution_count": 1,
   "metadata": {},
   "outputs": [],
   "source": [
    "class Vertex(object):\n",
    "    def __init__(self, key):\n",
    "        self.key = key\n",
    "        self.conns = {}\n",
    "    \n",
    "    def addConnection(self, key, weight):\n",
    "        self.conns[key] = weight\n",
    "\n",
    "class Graph(object): # weighted + directed\n",
    "    def __init__(self):\n",
    "        self.vertices = []\n",
    "    \n",
    "    def get(self, key):\n",
    "        res = [v for v in self.vertices if v.key == key]\n",
    "        if len(res) == 0:\n",
    "            return None\n",
    "        return res[0]\n",
    "    \n",
    "    def addVertex(self, key):\n",
    "        self.vertices.append(Vertex(key))\n",
    "\n",
    "    def addEdge(self, keySrc, keyDst, weight=1):\n",
    "        if self.get(keySrc) == None:\n",
    "            self.addVertex(keySrc)\n",
    "        if self.get(keyDst) == None:\n",
    "            self.addVertex(keyDst)\n",
    "        self.get(keySrc).addConnection(keyDst, weight)"
   ]
  },
  {
   "cell_type": "markdown",
   "metadata": {},
   "source": [
    "## 2. Graph Traversals\n",
    "### 2.1 Depth First Search (DFS)"
   ]
  },
  {
   "cell_type": "code",
   "execution_count": 2,
   "metadata": {},
   "outputs": [],
   "source": [
    "def DFS(graph:Graph, start=0):\n",
    "    def step(key, res:list, visited:list):\n",
    "        res.append(key)\n",
    "        visited.append(key)\n",
    "        for k in graph.get(key).conns.keys():\n",
    "            if k not in visited:\n",
    "                step(k, res, visited)\n",
    "    res, visited = [], []\n",
    "    step(start, res, visited)\n",
    "    return res"
   ]
  },
  {
   "cell_type": "code",
   "execution_count": 3,
   "metadata": {},
   "outputs": [
    {
     "name": "stdout",
     "output_type": "stream",
     "text": [
      "[2, 0, 1, 3]\n"
     ]
    }
   ],
   "source": [
    "graph = Graph()  \n",
    "graph.addEdge(0, 1)\n",
    "graph.addEdge(0, 2)\n",
    "graph.addEdge(1, 2)\n",
    "graph.addEdge(2, 0)\n",
    "graph.addEdge(2, 3)\n",
    "graph.addEdge(3, 3)\n",
    "print(DFS(graph, 2))"
   ]
  },
  {
   "cell_type": "markdown",
   "metadata": {},
   "source": [
    "### 2.2 Breadth First Search (BFS)"
   ]
  },
  {
   "cell_type": "code",
   "execution_count": 4,
   "metadata": {},
   "outputs": [],
   "source": [
    "def BFS(graph:Graph, start=0):\n",
    "    from collections import deque\n",
    "    res, visited = [], []\n",
    "    queue = deque()\n",
    "    queue.append(start)\n",
    "    visited.append(start)\n",
    "    while len(queue) > 0:\n",
    "        key = queue.popleft()\n",
    "        res.append(key)\n",
    "        for k in graph.get(key).conns.keys():\n",
    "            if k not in visited:\n",
    "                queue.append(k)\n",
    "                visited.append(k)\n",
    "    return res"
   ]
  },
  {
   "cell_type": "code",
   "execution_count": 5,
   "metadata": {},
   "outputs": [
    {
     "name": "stdout",
     "output_type": "stream",
     "text": [
      "[2, 0, 3, 1]\n"
     ]
    }
   ],
   "source": [
    "graph = Graph()  \n",
    "graph.addEdge(0, 1)\n",
    "graph.addEdge(0, 2)\n",
    "graph.addEdge(1, 2)\n",
    "graph.addEdge(2, 0)\n",
    "graph.addEdge(2, 3)\n",
    "graph.addEdge(3, 3)\n",
    "print(BFS(graph, 2))"
   ]
  },
  {
   "cell_type": "markdown",
   "metadata": {},
   "source": [
    "### 3.3 Topological Sort\n",
    "A topological ordering is not possible if the graph has a cycle."
   ]
  },
  {
   "cell_type": "code",
   "execution_count": 6,
   "metadata": {},
   "outputs": [],
   "source": [
    "def topSort(graph:Graph):\n",
    "    def getIndegrees(indegrees):\n",
    "        for v in graph.vertices:\n",
    "            indegrees[v.key] = 0\n",
    "        for v in graph.vertices:\n",
    "            for k in v.conns.keys():\n",
    "                indegrees[k] += 1\n",
    "    \n",
    "    from collections import deque\n",
    "    res = []\n",
    "    queue = deque()\n",
    "    # get the indegree of each vertex\n",
    "    indegrees = {}\n",
    "    getIndegrees(indegrees)\n",
    "    # find the vertices with indegree 0\n",
    "    for v in graph.vertices:\n",
    "        if indegrees[v.key] == 0:\n",
    "            queue.append(v.key)\n",
    "    while len(queue) > 0:\n",
    "        # remove the 0-vertex\n",
    "        tmp = queue.popleft()\n",
    "        res.append(tmp)\n",
    "        # update the neighbors then push the new 0-vertices\n",
    "        for k in graph.get(tmp).conns.keys():\n",
    "            indegrees[k] -= 1\n",
    "            if indegrees[k] == 0:\n",
    "                queue.append(k)\n",
    "    if len(res) != len(graph.vertices):\n",
    "        return None\n",
    "    return res"
   ]
  },
  {
   "cell_type": "code",
   "execution_count": 7,
   "metadata": {},
   "outputs": [
    {
     "name": "stdout",
     "output_type": "stream",
     "text": [
      "[1, 2, 5, 4, 3, 7, 6]\n"
     ]
    }
   ],
   "source": [
    "graph = Graph()\n",
    "graph.addEdge(1, 2)\n",
    "graph.addEdge(1, 3)\n",
    "graph.addEdge(1, 4)\n",
    "graph.addEdge(2, 4)\n",
    "graph.addEdge(2, 5)\n",
    "graph.addEdge(3, 6)\n",
    "graph.addEdge(4, 3)\n",
    "graph.addEdge(4, 6)\n",
    "graph.addEdge(4, 7)\n",
    "graph.addEdge(5, 4)\n",
    "graph.addEdge(5, 7)\n",
    "graph.addEdge(7, 6)\n",
    "print(topSort(graph))"
   ]
  },
  {
   "cell_type": "markdown",
   "metadata": {},
   "source": [
    "## 3. Shortest-Path Algorithms\n",
    "### 3.1 Breadth First Search (Unweighted)"
   ]
  },
  {
   "cell_type": "code",
   "execution_count": null,
   "metadata": {},
   "outputs": [],
   "source": []
  },
  {
   "cell_type": "markdown",
   "metadata": {},
   "source": [
    "### 3.2 Dijkstra’s Algorithm (Weighted)"
   ]
  },
  {
   "cell_type": "code",
   "execution_count": 8,
   "metadata": {},
   "outputs": [],
   "source": [
    "def dijkstra(graph:Graph, start=0):\n",
    "    record = {}\n",
    "    for v in graph.vertices:\n",
    "        record[v.key] = {'dist': float('inf'), 'done': 0, 'paths': [[]]}\n",
    "    record[start]['dist'] = 0\n",
    "    while True:\n",
    "        tmp = [k for k in record.keys() if record[k]['dist'] == min([val['dist'] for val in record.values()])]\n",
    "        if len(tmp) == 0:\n",
    "            break\n",
    "        key = tmp[0]\n",
    "        record[key]['done'] = 1\n",
    "        for path in record[key]['paths']:\n",
    "            path.append(key)\n",
    "        for vertex, weight in graph.get(key).conns:\n",
    "            if record[vertex.key]['done'] == 0:\n",
    "                currDist = record[vertex.key]['dist']\n",
    "                newDist = record[key]['dist'] + weight\n",
    "                if newDist < currDist:\n",
    "                    record[vertex.key]['dist'] = newDist\n",
    "                    record[vertex.key]['path'] = [_ for _ in record[key]['path']]\n",
    "                elif newDist == currDist:\n",
    "                    record[vertex.key]['path'].append([_ for _ in record[key]['path']])\n",
    "    return record"
   ]
  },
  {
   "cell_type": "markdown",
   "metadata": {},
   "source": [
    "### 3.3 Greedy Best First Search\n",
    "May not find the shortest path !\n",
    "\n",
    "https://www.redblobgames.com/pathfinding/a-star/introduction.html"
   ]
  },
  {
   "cell_type": "code",
   "execution_count": 9,
   "metadata": {},
   "outputs": [
    {
     "name": "stdout",
     "output_type": "stream",
     "text": [
      "[0, 0, 0, 0, 0, 0, 0, 0, 0, 0, 0, 0, 0, 0, 0]\n",
      "[0, 0, 0, 0, 0, 0, 0, 0, 0, 0, 0, 0, 0, 0, 0]\n",
      "[0, 0, 1, 1, 1, 1, 1, 1, 1, 1, 1, 1, 1, 1, 0]\n",
      "[0, 0, 0, 0, 0, 0, 0, 0, 0, 0, 0, 0, 1, 0, 0]\n",
      "[0, 0, 0, 0, 0, 0, 0, 0, 0, 0, 0, 0, 1, 0, 0]\n",
      "[0, 0, 0, 0, 0, 0, 0, 0, 0, 0, 0, 0, 1, 0, 0]\n",
      "[0, 0, 0, 0, 0, 0, 0, 0, 0, 0, 0, 0, 1, 0, 0]\n",
      "[0, 0, 0, 0, 0, 0, 0, 0, 0, 0, 0, 0, 1, 0, 0]\n",
      "[0, 0, 0, 0, 0, 0, 0, 0, 0, 0, 0, 0, 1, 0, 0]\n",
      "[0, 0, 0, 0, 0, 0, 0, 0, 0, 0, 0, 0, 1, 0, 0]\n",
      "[0, 0, 0, 0, 0, 0, 0, 0, 0, 0, 0, 0, 1, 0, 0]\n",
      "[0, 0, 0, 0, 0, 0, 0, 0, 0, 0, 0, 0, 1, 0, 0]\n",
      "[0, 0, 1, 1, 1, 1, 1, 1, 1, 1, 1, 1, 1, 0, 0]\n",
      "[0, 0, 0, 0, 0, 0, 0, 0, 0, 0, 0, 0, 0, 0, 0]\n",
      "[0, 0, 0, 0, 0, 0, 0, 0, 0, 0, 0, 0, 0, 0, 0]\n",
      "[(12, 0), (11, 0), (10, 0), (9, 0), (8, 0), (7, 0), (6, 0), (5, 0), (4, 0), (3, 0), (2, 0), (2, 1), (1, 1), (1, 2), (1, 3), (1, 4), (1, 5), (1, 6), (1, 7), (1, 8), (1, 9), (1, 10), (1, 11), (1, 12), (1, 13), (1, 14), (2, 14)]\n"
     ]
    }
   ],
   "source": [
    "def greedyBestFirstSearch(graph, start, goal):\n",
    "    from queue import PriorityQueue\n",
    "    def heuristic(pos1, pos2):\n",
    "        # Manhattan distance on a square grid\n",
    "        return abs(pos1[0] - pos2[0]) + abs(pos1[1] - pos2[1])\n",
    "    \n",
    "    def getNeighbors(pos):\n",
    "        m, n = len(graph), len(graph[0])\n",
    "        x, y = pos[0], pos[1]\n",
    "        neighbors = []\n",
    "        if y + 1 < n and graph[x][y+1] == 0:\n",
    "            neighbors.append((x, y + 1))\n",
    "        if x + 1 < m and graph[x+1][y] == 0:\n",
    "            neighbors.append((x + 1, y))\n",
    "        if y - 1 >= 0 and graph[x][y-1] == 0:\n",
    "            neighbors.append((x, y - 1))\n",
    "        if x - 1 >= 0 and graph[x-1][y] == 0:\n",
    "            neighbors.append((x - 1, y))\n",
    "        return neighbors\n",
    "    \n",
    "    def getPath(prev):\n",
    "        path, currPos = [goal], goal\n",
    "        while currPos != start:\n",
    "            path.insert(0, prev[currPos])\n",
    "            currPos = prev[currPos]\n",
    "        return path\n",
    "    \n",
    "    frontier = PriorityQueue()\n",
    "    frontier.put((0, start))\n",
    "    prev = {}\n",
    "    prev[start] = None\n",
    "    while not frontier.empty():\n",
    "        _, currPos = frontier.get()\n",
    "        if currPos == goal:\n",
    "            return getPath(prev)\n",
    "        for next in getNeighbors(currPos):\n",
    "            if next not in prev:\n",
    "                priority = heuristic(next, goal)\n",
    "                frontier.put((priority, next))\n",
    "                prev[next] = currPos\n",
    "\n",
    "graph = [[0 for _ in range(15)] for _ in range(15)]\n",
    "graph[2][2:14] = [1 for _ in range(2, 14)]\n",
    "graph[12][2:13] = [1 for _ in range(2, 13)]\n",
    "for i in range(2, 13):\n",
    "    graph[i][12] = 1\n",
    "for i in range(len(graph)):\n",
    "    print(graph[i])\n",
    "path = greedyBestFirstSearch(graph, (12, 0), (2, 14))\n",
    "print(path)"
   ]
  },
  {
   "cell_type": "markdown",
   "metadata": {},
   "source": [
    "### 3.4 A* Search"
   ]
  },
  {
   "cell_type": "code",
   "execution_count": 10,
   "metadata": {},
   "outputs": [
    {
     "name": "stdout",
     "output_type": "stream",
     "text": [
      "[0, 0, 0, 0, 0, 0, 0, 0, 0, 0, 0, 0, 0, 0, 0]\n",
      "[0, 0, 0, 0, 0, 0, 0, 0, 0, 0, 0, 0, 0, 0, 0]\n",
      "[0, 0, 1, 1, 1, 1, 1, 1, 1, 1, 1, 1, 1, 1, 0]\n",
      "[0, 0, 0, 0, 0, 0, 0, 0, 0, 0, 0, 0, 1, 0, 0]\n",
      "[0, 0, 0, 0, 0, 0, 0, 0, 0, 0, 0, 0, 1, 0, 0]\n",
      "[0, 0, 0, 0, 0, 0, 0, 0, 0, 0, 0, 0, 1, 0, 0]\n",
      "[0, 0, 0, 0, 0, 0, 0, 0, 0, 0, 0, 0, 1, 0, 0]\n",
      "[0, 0, 0, 0, 0, 0, 0, 0, 0, 0, 0, 0, 1, 0, 0]\n",
      "[0, 0, 0, 0, 0, 0, 0, 0, 0, 0, 0, 0, 1, 0, 0]\n",
      "[0, 0, 0, 0, 0, 0, 0, 0, 0, 0, 0, 0, 1, 0, 0]\n",
      "[0, 0, 0, 0, 0, 0, 0, 0, 0, 0, 0, 0, 1, 0, 0]\n",
      "[0, 0, 0, 0, 0, 0, 0, 0, 0, 0, 0, 0, 1, 0, 0]\n",
      "[0, 0, 1, 1, 1, 1, 1, 1, 1, 1, 1, 1, 1, 0, 0]\n",
      "[0, 0, 0, 0, 0, 0, 0, 0, 0, 0, 0, 0, 0, 0, 0]\n",
      "[0, 0, 0, 0, 0, 0, 0, 0, 0, 0, 0, 0, 0, 0, 0]\n",
      "[(12, 0), (11, 0), (10, 0), (9, 0), (8, 0), (7, 0), (6, 0), (5, 0), (4, 0), (3, 0), (2, 0), (2, 1), (1, 1), (1, 2), (1, 3), (1, 4), (1, 5), (1, 6), (1, 7), (1, 8), (1, 9), (1, 10), (1, 11), (1, 12), (1, 13), (1, 14), (2, 14)]\n"
     ]
    }
   ],
   "source": [
    "def aStarSearch(graph, start, goal):\n",
    "    from queue import PriorityQueue\n",
    "    def heuristic(pos1, pos2):\n",
    "        # Manhattan distance on a square grid\n",
    "        return abs(pos1[0] - pos2[0]) + abs(pos1[1] - pos2[1])\n",
    "    \n",
    "    def getNeighbors(pos):\n",
    "        m, n = len(graph), len(graph[0])\n",
    "        x, y = pos[0], pos[1]\n",
    "        neighbors = []\n",
    "        if y + 1 < n and graph[x][y+1] == 0:\n",
    "            neighbors.append((x, y + 1))\n",
    "        if x + 1 < m and graph[x+1][y] == 0:\n",
    "            neighbors.append((x + 1, y))\n",
    "        if y - 1 >= 0 and graph[x][y-1] == 0:\n",
    "            neighbors.append((x, y - 1))\n",
    "        if x - 1 >= 0 and graph[x-1][y] == 0:\n",
    "            neighbors.append((x - 1, y))\n",
    "        return neighbors\n",
    "    \n",
    "    def getPath(prev):\n",
    "        path, currPos = [goal], goal\n",
    "        while currPos != start:\n",
    "            path.insert(0, prev[currPos])\n",
    "            currPos = prev[currPos]\n",
    "        return path\n",
    "\n",
    "    frontier = PriorityQueue()\n",
    "    frontier.put((0, start))\n",
    "    prev = {}\n",
    "    cost = {}\n",
    "    prev[start], cost[start] = None, 0\n",
    "    while not frontier.empty():\n",
    "        _, currPos = frontier.get()\n",
    "        if currPos == goal:\n",
    "            return getPath(prev)\n",
    "        for next in getNeighbors(currPos):\n",
    "            newCost = cost[currPos] + 1\n",
    "            if next not in cost or newCost < cost[next]:\n",
    "                cost[next] = newCost\n",
    "                priority = newCost + heuristic(next, goal)\n",
    "                frontier.put((priority, next))\n",
    "                prev[next] = currPos\n",
    "\n",
    "graph = [[0 for _ in range(15)] for _ in range(15)]\n",
    "graph[2][2:14] = [1 for _ in range(2, 14)]\n",
    "graph[12][2:13] = [1 for _ in range(2, 13)]\n",
    "for i in range(2, 13):\n",
    "    graph[i][12] = 1\n",
    "for i in range(len(graph)):\n",
    "    print(graph[i])\n",
    "path = aStarSearch(graph, (12, 0), (2, 14))\n",
    "print(path)"
   ]
  }
 ],
 "metadata": {
  "kernelspec": {
   "display_name": "Python 3",
   "language": "python",
   "name": "python3"
  },
  "language_info": {
   "codemirror_mode": {
    "name": "ipython",
    "version": 3
   },
   "file_extension": ".py",
   "mimetype": "text/x-python",
   "name": "python",
   "nbconvert_exporter": "python",
   "pygments_lexer": "ipython3",
   "version": "3.8.10"
  }
 },
 "nbformat": 4,
 "nbformat_minor": 2
}
