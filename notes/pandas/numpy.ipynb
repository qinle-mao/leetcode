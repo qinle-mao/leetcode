{
 "cells": [
  {
   "cell_type": "markdown",
   "metadata": {},
   "source": [
    "# Numpy Basics\n",
    "NumPy is the fundamental package for scientific computing in Python.\n",
    "\n",
    "It’s a Python library that provides\n",
    "- multidimensional array object \n",
    "- various derived objects (such as masked arrays and matrices) \n",
    "- an assortment of routines for fast operations on arrays, including mathematical, logical, shape manipulation, sorting, selecting, I/O, discrete Fourier transforms, basic linear algebra, basic statistical operations, random simulation and much more."
   ]
  },
  {
   "cell_type": "code",
   "execution_count": 1,
   "metadata": {},
   "outputs": [],
   "source": [
    "import numpy as np"
   ]
  },
  {
   "attachments": {},
   "cell_type": "markdown",
   "metadata": {},
   "source": [
    "## 1. np.array - ndarray\n",
    "NumPy’s main object is the homogeneous multidimensional array. It is a table of elements (usually numbers), all of the\n",
    "same type, indexed by a tuple of non-negative integers. In NumPy dimensions are called *axes*."
   ]
  },
  {
   "attachments": {},
   "cell_type": "markdown",
   "metadata": {},
   "source": [
    "### 1.1 Basic Features"
   ]
  },
  {
   "cell_type": "code",
   "execution_count": 2,
   "metadata": {},
   "outputs": [
    {
     "name": "stdout",
     "output_type": "stream",
     "text": [
      "<class 'numpy.ndarray'>\n",
      "2\n",
      "(3, 5)\n",
      "15\n",
      "int32\n",
      "4\n",
      "[[ 0  1  2  3  4]\n",
      " [ 5  6  7  8  9]\n",
      " [10 11 12 13 14]]\n"
     ]
    }
   ],
   "source": [
    "a = np.arange(15).reshape(3,5)\n",
    "print(type(a))\n",
    "print(a.ndim)\n",
    "print(a.shape)\n",
    "print(a.size)\n",
    "print(a.dtype)\n",
    "print(a.itemsize)\n",
    "print(a)"
   ]
  },
  {
   "attachments": {},
   "cell_type": "markdown",
   "metadata": {},
   "source": [
    "### 1.2 Array Creation"
   ]
  },
  {
   "attachments": {},
   "cell_type": "markdown",
   "metadata": {},
   "source": [
    "a) Create an array from a regular Python **list** or **tuple** using the array function. (accept sigle argument, type remains)"
   ]
  },
  {
   "cell_type": "code",
   "execution_count": 3,
   "metadata": {},
   "outputs": [
    {
     "name": "stdout",
     "output_type": "stream",
     "text": [
      "[1.+0.j 2.+0.j 3.+0.j]\n",
      "complex128\n",
      "[[1.1 2.2 3.3]\n",
      " [4.  5.  6. ]]\n",
      "float64\n"
     ]
    }
   ],
   "source": [
    "a = np.array([1,2,3],dtype=complex)\n",
    "print(a)\n",
    "print(a.dtype)\n",
    "b = np.array([(1.1,2.2,3.3),(4,5,6)])\n",
    "print(b)\n",
    "print(b.dtype)"
   ]
  },
  {
   "attachments": {},
   "cell_type": "markdown",
   "metadata": {},
   "source": [
    "b) Create arrays with initial placeholder content (dtype=float64 as default)"
   ]
  },
  {
   "cell_type": "code",
   "execution_count": 4,
   "metadata": {},
   "outputs": [
    {
     "data": {
      "text/plain": [
       "array([[0., 0., 0., 0.],\n",
       "       [0., 0., 0., 0.],\n",
       "       [0., 0., 0., 0.]])"
      ]
     },
     "execution_count": 4,
     "metadata": {},
     "output_type": "execute_result"
    }
   ],
   "source": [
    "np.zeros((3,4))"
   ]
  },
  {
   "cell_type": "code",
   "execution_count": 5,
   "metadata": {},
   "outputs": [
    {
     "data": {
      "text/plain": [
       "array([[[1, 1, 1, 1],\n",
       "        [1, 1, 1, 1],\n",
       "        [1, 1, 1, 1]],\n",
       "\n",
       "       [[1, 1, 1, 1],\n",
       "        [1, 1, 1, 1],\n",
       "        [1, 1, 1, 1]]], dtype=int16)"
      ]
     },
     "execution_count": 5,
     "metadata": {},
     "output_type": "execute_result"
    }
   ],
   "source": [
    "np.ones((2,3,4),dtype=np.int16)"
   ]
  },
  {
   "cell_type": "code",
   "execution_count": 6,
   "metadata": {},
   "outputs": [
    {
     "data": {
      "text/plain": [
       "array([[0.00000000e+000, 0.00000000e+000, 0.00000000e+000,\n",
       "        0.00000000e+000],\n",
       "       [0.00000000e+000, 5.53353523e-321, 1.24610723e-306,\n",
       "        1.29061142e-306]])"
      ]
     },
     "execution_count": 6,
     "metadata": {},
     "output_type": "execute_result"
    }
   ],
   "source": [
    "np.empty([2,4])"
   ]
  },
  {
   "attachments": {},
   "cell_type": "markdown",
   "metadata": {},
   "source": [
    "c) Create sequences of numbers"
   ]
  },
  {
   "cell_type": "code",
   "execution_count": 7,
   "metadata": {},
   "outputs": [
    {
     "data": {
      "text/plain": [
       "array([10, 15, 20, 25, 30])"
      ]
     },
     "execution_count": 7,
     "metadata": {},
     "output_type": "execute_result"
    }
   ],
   "source": [
    "np.arange(10,35,5) # stop number excluded"
   ]
  },
  {
   "cell_type": "code",
   "execution_count": 8,
   "metadata": {},
   "outputs": [
    {
     "data": {
      "text/plain": [
       "array([0., 1., 2., 3., 4., 5., 6., 7., 8., 9.])"
      ]
     },
     "execution_count": 8,
     "metadata": {},
     "output_type": "execute_result"
    }
   ],
   "source": [
    "np.linspace(0,9,10) # stop number included"
   ]
  },
  {
   "attachments": {},
   "cell_type": "markdown",
   "metadata": {},
   "source": [
    "### 1.3 Printing Arrays\n",
    "When you print an array, NumPy displays it in a similar way to nested lists, but with the following layout:\n",
    "- the last axis is printed from left to right,\n",
    "- the second-to-last is printed from top to bottom,\n",
    "- the rest are also printed from top to bottom, with each slice separated from the next by an empty line."
   ]
  },
  {
   "cell_type": "code",
   "execution_count": 9,
   "metadata": {},
   "outputs": [
    {
     "name": "stdout",
     "output_type": "stream",
     "text": [
      "[[[ 0  1  2  3]\n",
      "  [ 4  5  6  7]\n",
      "  [ 8  9 10 11]]\n",
      "\n",
      " [[12 13 14 15]\n",
      "  [16 17 18 19]\n",
      "  [20 21 22 23]]]\n"
     ]
    }
   ],
   "source": [
    "a = np.arange(24).reshape(2,3,4)\n",
    "print(a)"
   ]
  },
  {
   "attachments": {},
   "cell_type": "markdown",
   "metadata": {},
   "source": [
    "### 1.4 Basic Operations"
   ]
  },
  {
   "cell_type": "code",
   "execution_count": 10,
   "metadata": {},
   "outputs": [
    {
     "name": "stdout",
     "output_type": "stream",
     "text": [
      "[20 30 40 50]\n",
      "[0 1 2 3]\n"
     ]
    }
   ],
   "source": [
    "a = np.array([20,30,40,50])\n",
    "b = np.arange(4)\n",
    "print(a)\n",
    "print(b)"
   ]
  },
  {
   "cell_type": "code",
   "execution_count": 11,
   "metadata": {},
   "outputs": [
    {
     "name": "stdout",
     "output_type": "stream",
     "text": [
      "[20 29 38 47]\n"
     ]
    }
   ],
   "source": [
    "print(a - b)"
   ]
  },
  {
   "cell_type": "code",
   "execution_count": 12,
   "metadata": {},
   "outputs": [
    {
     "name": "stdout",
     "output_type": "stream",
     "text": [
      "[0 2 4 6]\n"
     ]
    }
   ],
   "source": [
    "print(b * 2)"
   ]
  },
  {
   "cell_type": "code",
   "execution_count": 13,
   "metadata": {},
   "outputs": [
    {
     "name": "stdout",
     "output_type": "stream",
     "text": [
      "[ True  True False False]\n"
     ]
    }
   ],
   "source": [
    "print(a < 35)"
   ]
  },
  {
   "cell_type": "code",
   "execution_count": 14,
   "metadata": {},
   "outputs": [
    {
     "name": "stdout",
     "output_type": "stream",
     "text": [
      "[[ 2  2]\n",
      " [12 12]]\n",
      "[[10  7]\n",
      " [22 15]]\n",
      "[[10  7]\n",
      " [22 15]]\n"
     ]
    }
   ],
   "source": [
    "A = np.array(((1,2),(3,4)))\n",
    "B = np.array(((2,1),(4,3)))\n",
    "# elementwise product\n",
    "print(A * B)\n",
    "# matrix product\n",
    "print(A @ B)\n",
    "# dot matrix product\n",
    "print(A.dot(B))"
   ]
  },
  {
   "cell_type": "code",
   "execution_count": 15,
   "metadata": {},
   "outputs": [
    {
     "name": "stdout",
     "output_type": "stream",
     "text": [
      "10\n",
      "1\n",
      "4\n"
     ]
    }
   ],
   "source": [
    "print(A.sum())\n",
    "print(A.min())\n",
    "print(A.max())"
   ]
  },
  {
   "cell_type": "code",
   "execution_count": 16,
   "metadata": {},
   "outputs": [
    {
     "name": "stdout",
     "output_type": "stream",
     "text": [
      "[6 4]\n",
      "[3 7]\n",
      "[2 4]\n"
     ]
    }
   ],
   "source": [
    "print(B.sum(axis=0))\n",
    "print(B.sum(axis=1))\n",
    "print(B.max(axis=1))"
   ]
  },
  {
   "cell_type": "code",
   "execution_count": 17,
   "metadata": {},
   "outputs": [
    {
     "name": "stdout",
     "output_type": "stream",
     "text": [
      "[[ 2.71828183  7.3890561 ]\n",
      " [20.08553692 54.59815003]]\n",
      "[[1.41421356 1.        ]\n",
      " [2.         1.73205081]]\n"
     ]
    }
   ],
   "source": [
    "print(np.exp(A))\n",
    "print(np.sqrt(B))"
   ]
  },
  {
   "attachments": {},
   "cell_type": "markdown",
   "metadata": {},
   "source": [
    "### 1.5 Indexing, Slicing and Iterating\n",
    "One-dimensional arrays can be indexed, sliced and iterated over, much like lists and other Python sequences.\n",
    "\n",
    "Multidimensional arrays can have one index per axis. These indices are given in a tuple separated by commas.\n",
    "\n",
    "The dots (...) represent as many colons as needed to produce a complete indexing tuple\n",
    "\n",
    "- x[1, 2, ...] is equivalent to x[1, 2, :, :, :],\n",
    "- x[..., 3] to x[:, :, :, :, 3] and\n",
    "- x[4, ..., 5, :] to x[4, :, :, 5, :]"
   ]
  },
  {
   "cell_type": "code",
   "execution_count": 18,
   "metadata": {},
   "outputs": [
    {
     "name": "stdout",
     "output_type": "stream",
     "text": [
      "[[ 0  1  2  3]\n",
      " [10 11 12 13]\n",
      " [20 21 22 23]\n",
      " [30 31 32 33]\n",
      " [40 41 42 43]]\n",
      "23\n",
      "[ 1 11 21 31]\n",
      "[[10 11 12 13]\n",
      " [20 21 22 23]]\n",
      "[40 41 42 43]\n"
     ]
    }
   ],
   "source": [
    "def f(x,y):\n",
    "    return 10 * x + y\n",
    "b = np.fromfunction(f,(5,4),dtype=int)\n",
    "print(b)\n",
    "print(b[2,3])\n",
    "print(b[0:4,1]) # 4 is excluded\n",
    "print(b[1:3,])\n",
    "print(b[-1])"
   ]
  },
  {
   "attachments": {},
   "cell_type": "markdown",
   "metadata": {},
   "source": [
    "Indexing with Arrays of Indices"
   ]
  },
  {
   "cell_type": "code",
   "execution_count": 19,
   "metadata": {},
   "outputs": [
    {
     "name": "stdout",
     "output_type": "stream",
     "text": [
      "[  0   1   4   9  16  25  36  49  64  81 100 121]\n",
      "[ 1  1 64  9 25]\n",
      "[[ 9 16]\n",
      " [25 36]]\n"
     ]
    }
   ],
   "source": [
    "a = np.arange(12) ** 2\n",
    "print(a)\n",
    "print(a[np.array([1,1,8,3,5])])\n",
    "print(a[np.array([[3,4],[5,6]])])"
   ]
  },
  {
   "cell_type": "code",
   "execution_count": 20,
   "metadata": {},
   "outputs": [
    {
     "name": "stdout",
     "output_type": "stream",
     "text": [
      "[[[255 255 255]\n",
      "  [  0   0 255]\n",
      "  [255 255 255]]\n",
      "\n",
      " [[  0   0   0]\n",
      "  [  0 255   0]\n",
      "  [255   0   0]]]\n"
     ]
    }
   ],
   "source": [
    "palette = np.array([\n",
    "    [0, 0, 0], # black\n",
    "    [255, 255, 255], # white\n",
    "    [255, 0, 0], # red\n",
    "    [0, 255, 0], # green\n",
    "    [0, 0, 255], # blue\n",
    "])\n",
    "image = np.array([\n",
    "    [1,4,1],\n",
    "    [0,3,2]\n",
    "])\n",
    "print(palette[image])\n"
   ]
  },
  {
   "cell_type": "code",
   "execution_count": 21,
   "metadata": {},
   "outputs": [
    {
     "name": "stdout",
     "output_type": "stream",
     "text": [
      "[[ 0  1  2  3]\n",
      " [ 4  5  6  7]\n",
      " [ 8  9 10 11]]\n",
      "[[ 2  5]\n",
      " [ 7 11]]\n"
     ]
    }
   ],
   "source": [
    "# indices for more than one dimension\n",
    "a = np.arange(12).reshape(3,4)\n",
    "print(a)\n",
    "i = np.array([\n",
    "    [0,1],\n",
    "    [1,2]\n",
    "])\n",
    "j = np.array([\n",
    "    [2,1],\n",
    "    [3,3]\n",
    "])\n",
    "print(a[i,j]) # can also be a[(i,j)] but not a[[i,j]](be indexing the first dimension)"
   ]
  },
  {
   "attachments": {},
   "cell_type": "markdown",
   "metadata": {},
   "source": [
    "Indexing with Boolean Arrays"
   ]
  },
  {
   "cell_type": "code",
   "execution_count": 22,
   "metadata": {},
   "outputs": [
    {
     "name": "stdout",
     "output_type": "stream",
     "text": [
      "[[ 0  1  2  3]\n",
      " [ 4  5  6  7]\n",
      " [ 8  9 10 11]]\n",
      "[ 5  6  7  8  9 10 11]\n",
      "[[ 4  5  6  7]\n",
      " [ 8  9 10 11]]\n",
      "[[ 0  2]\n",
      " [ 4  6]\n",
      " [ 8 10]]\n"
     ]
    }
   ],
   "source": [
    "# The most natural way one can think of for boolean indexing is to use boolean arrays that have the same shape \n",
    "# as the original array:\n",
    "a = np.arange(12).reshape(3, 4)\n",
    "b = a > 4\n",
    "print(a)\n",
    "print(a[b]) # get the selected items\n",
    "\n",
    "# The second way of indexing with booleans is more similar to integer indexing; for each dimension of the array \n",
    "# we give a 1D boolean array selecting the slices we want\n",
    "b1 = np.array([False, True, True])\n",
    "b2 = np.array([True, False, True, False])\n",
    "print(a[b1,:]) # selecting axis 0\n",
    "print(a[:,b2]) # selecting axis 1"
   ]
  },
  {
   "attachments": {},
   "cell_type": "markdown",
   "metadata": {},
   "source": [
    "The ix_() function\n",
    "\n",
    "The ix_ function can be used to combine different vectors so as to obtain the result for each n-uplet. For example, if you want to compute all the a+b*c for all the triplets taken from each of the vectors a, b and c:"
   ]
  },
  {
   "cell_type": "code",
   "execution_count": 23,
   "metadata": {},
   "outputs": [
    {
     "name": "stdout",
     "output_type": "stream",
     "text": [
      "[[[2]]\n",
      "\n",
      " [[3]]\n",
      "\n",
      " [[4]]\n",
      "\n",
      " [[5]]]\n",
      "[[[8]\n",
      "  [5]\n",
      "  [4]]]\n",
      "[[[5 4 6 8 3]]]\n",
      "[[[42 34 50 66 26]\n",
      "  [27 22 32 42 17]\n",
      "  [22 18 26 34 14]]\n",
      "\n",
      " [[43 35 51 67 27]\n",
      "  [28 23 33 43 18]\n",
      "  [23 19 27 35 15]]\n",
      "\n",
      " [[44 36 52 68 28]\n",
      "  [29 24 34 44 19]\n",
      "  [24 20 28 36 16]]\n",
      "\n",
      " [[45 37 53 69 29]\n",
      "  [30 25 35 45 20]\n",
      "  [25 21 29 37 17]]]\n"
     ]
    }
   ],
   "source": [
    "a = np.array([2, 3, 4, 5])\n",
    "b = np.array([8, 5, 4])\n",
    "c = np.array([5, 4, 6, 8, 3])\n",
    "ax, bx, cx = np.ix_(a, b, c)\n",
    "print(ax)\n",
    "print(bx)\n",
    "print(cx)\n",
    "result = ax + bx * cx\n",
    "print(result)"
   ]
  },
  {
   "attachments": {},
   "cell_type": "markdown",
   "metadata": {},
   "source": [
    "Iterating"
   ]
  },
  {
   "cell_type": "code",
   "execution_count": 24,
   "metadata": {},
   "outputs": [
    {
     "name": "stdout",
     "output_type": "stream",
     "text": [
      "8\n",
      "5\n",
      "4\n"
     ]
    }
   ],
   "source": [
    "for row in b:\n",
    "    print(row)"
   ]
  },
  {
   "cell_type": "code",
   "execution_count": 25,
   "metadata": {},
   "outputs": [
    {
     "name": "stdout",
     "output_type": "stream",
     "text": [
      "8\n",
      "5\n",
      "4\n"
     ]
    }
   ],
   "source": [
    "for element in b.flat:\n",
    "    print(element)"
   ]
  },
  {
   "attachments": {},
   "cell_type": "markdown",
   "metadata": {},
   "source": [
    "### 1.6 Shape Manipulation"
   ]
  },
  {
   "attachments": {},
   "cell_type": "markdown",
   "metadata": {},
   "source": [
    "Changing the shape of an array."
   ]
  },
  {
   "cell_type": "code",
   "execution_count": 26,
   "metadata": {},
   "outputs": [
    {
     "name": "stdout",
     "output_type": "stream",
     "text": [
      "[[5. 9. 1. 9.]\n",
      " [3. 4. 8. 4.]\n",
      " [5. 0. 7. 5.]]\n",
      "(3, 4)\n"
     ]
    }
   ],
   "source": [
    "rg = np.random.default_rng(1)\n",
    "a = np.floor(10 * rg.random((3,4)))\n",
    "print(a)\n",
    "print(a.shape)"
   ]
  },
  {
   "cell_type": "code",
   "execution_count": 27,
   "metadata": {},
   "outputs": [
    {
     "name": "stdout",
     "output_type": "stream",
     "text": [
      "[5. 9. 1. 9. 3. 4. 8. 4. 5. 0. 7. 5.]\n",
      "[[5. 9. 1.]\n",
      " [9. 3. 4.]\n",
      " [8. 4. 5.]\n",
      " [0. 7. 5.]]\n",
      "[[5. 9. 1. 9.]\n",
      " [3. 4. 8. 4.]\n",
      " [5. 0. 7. 5.]]\n",
      "[[5. 3. 5.]\n",
      " [9. 4. 0.]\n",
      " [1. 8. 7.]\n",
      " [9. 4. 5.]]\n"
     ]
    }
   ],
   "source": [
    "# the original a will not be changed\n",
    "print(a.ravel())\n",
    "print(a.reshape((4,3)))\n",
    "print(a.reshape(3,-1)) # If a dimension is given as -1 in a reshaping operation, the other dimensions are automatically calculated\n",
    "print(a.T)"
   ]
  },
  {
   "cell_type": "code",
   "execution_count": 28,
   "metadata": {},
   "outputs": [
    {
     "name": "stdout",
     "output_type": "stream",
     "text": [
      "[[5. 9. 1.]\n",
      " [9. 3. 4.]\n",
      " [8. 4. 5.]\n",
      " [0. 7. 5.]]\n"
     ]
    }
   ],
   "source": [
    "# the original a will be changed (return None)\n",
    "a.resize((4,3))\n",
    "print(a)"
   ]
  },
  {
   "attachments": {},
   "cell_type": "markdown",
   "metadata": {},
   "source": [
    "Stacking together different arrays"
   ]
  },
  {
   "cell_type": "code",
   "execution_count": 29,
   "metadata": {},
   "outputs": [
    {
     "name": "stdout",
     "output_type": "stream",
     "text": [
      "[[3. 7.]\n",
      " [3. 4.]]\n",
      "[[1. 4.]\n",
      " [2. 2.]]\n",
      "[[3. 7.]\n",
      " [3. 4.]\n",
      " [1. 4.]\n",
      " [2. 2.]]\n",
      "[[3. 7. 1. 4.]\n",
      " [3. 4. 2. 2.]]\n"
     ]
    }
   ],
   "source": [
    "a = np.floor(10 * rg.random((2,2)))\n",
    "b = np.floor(10 * rg.random((2,2)))\n",
    "print(a)\n",
    "print(b)\n",
    "print(np.vstack((a,b)))\n",
    "print(np.hstack((a,b)))"
   ]
  },
  {
   "attachments": {},
   "cell_type": "markdown",
   "metadata": {},
   "source": [
    "Splitting one array into several smaller ones."
   ]
  },
  {
   "cell_type": "code",
   "execution_count": 30,
   "metadata": {},
   "outputs": [
    {
     "name": "stdout",
     "output_type": "stream",
     "text": [
      "[[7. 2. 4. 9. 9. 7. 5. 2. 1. 9. 5. 1.]\n",
      " [6. 7. 6. 9. 0. 5. 4. 0. 6. 8. 5. 2.]]\n",
      "[array([[7., 2., 4., 9.],\n",
      "       [6., 7., 6., 9.]]), array([[9., 7., 5., 2.],\n",
      "       [0., 5., 4., 0.]]), array([[1., 9., 5., 1.],\n",
      "       [6., 8., 5., 2.]])]\n",
      "[array([[7., 2., 4.],\n",
      "       [6., 7., 6.]]), array([[9.],\n",
      "       [9.]]), array([[9., 7., 5., 2., 1., 9., 5., 1.],\n",
      "       [0., 5., 4., 0., 6., 8., 5., 2.]])]\n"
     ]
    }
   ],
   "source": [
    "a = np.floor(10 * rg.random((2,12)))\n",
    "print(a)\n",
    "print(np.hsplit(a,3)) # Split a into 3\n",
    "print(np.hsplit(a,(3,4))) # Split a after the third and the fourth column"
   ]
  },
  {
   "cell_type": "code",
   "execution_count": 31,
   "metadata": {},
   "outputs": [
    {
     "name": "stdout",
     "output_type": "stream",
     "text": [
      "[[[8. 5. 5. 7.]\n",
      "  [1. 8. 6. 7.]\n",
      "  [1. 8. 1. 0.]]\n",
      "\n",
      " [[8. 8. 8. 4.]\n",
      "  [2. 0. 6. 7.]\n",
      "  [8. 2. 2. 6.]]]\n",
      "[array([[[8., 5., 5., 7.]],\n",
      "\n",
      "       [[8., 8., 8., 4.]]]), array([[[1., 8., 6., 7.],\n",
      "        [1., 8., 1., 0.]],\n",
      "\n",
      "       [[2., 0., 6., 7.],\n",
      "        [8., 2., 2., 6.]]])]\n"
     ]
    }
   ],
   "source": [
    "a = np.floor(10 * rg.random((2,3,4)))\n",
    "print(a)\n",
    "# numpy.array_split(ary, indices_or_sections, axis=0)\n",
    "print(np.array_split(a,(1,),axis=1))"
   ]
  },
  {
   "attachments": {},
   "cell_type": "markdown",
   "metadata": {},
   "source": [
    "Copies and views.\n",
    "- The view method creates a new array object that looks at the same data.\n",
    "- The copy method makes a complete copy of the array and its data."
   ]
  },
  {
   "cell_type": "code",
   "execution_count": 32,
   "metadata": {},
   "outputs": [
    {
     "name": "stdout",
     "output_type": "stream",
     "text": [
      "[[8. 9. 1. 4.]\n",
      " [8. 4. 5. 0.]\n",
      " [6. 9. 8. 8.]]\n",
      "False\n",
      "True\n",
      "False\n",
      "[[  8.   9.   1.   4.]\n",
      " [  8. 123.   5.   0.]\n",
      " [  6.   9.   8.   8.]]\n"
     ]
    }
   ],
   "source": [
    "a = np.floor(10 * rg.random((3,4)))\n",
    "print(a)\n",
    "c = a.view()\n",
    "print(c is a)\n",
    "print(c.base is a)\n",
    "print(c.flags.owndata)\n",
    "c = c.reshape((4,3)) # a does not change\n",
    "c[1,2] = 123 # a changes\n",
    "print(a)"
   ]
  },
  {
   "cell_type": "code",
   "execution_count": 33,
   "metadata": {},
   "outputs": [
    {
     "name": "stdout",
     "output_type": "stream",
     "text": [
      "False\n",
      "False\n",
      "True\n"
     ]
    }
   ],
   "source": [
    "d = a.copy()\n",
    "print(d is a)\n",
    "print(d.base is a)\n",
    "print(d.flags.owndata)\n",
    "# a will not change no matter how d changes"
   ]
  },
  {
   "attachments": {},
   "cell_type": "markdown",
   "metadata": {},
   "source": [
    "### 1.3.1.7 Functions and Methods Overview\n",
    "\n",
    "| Purposes | Functions |\n",
    "| --- | --- |\n",
    "| Array Creation | arange, array, copy, empty, empty_like, eye, fromfile, fromfunction, identity, linspace, logspace, mgrid, ogrid, ones, ones_like, r_, zeros, zeros_like |\n",
    "| Conversions | ndarray.astype, atleast_1d, atleast_2d, atleast_3d, mat |\n",
    "| Manipulations | array_split, column_stack, concatenate, diagonal, dsplit, dstack, hsplit, hstack, ndarray.item, newaxis, ravel, repeat, reshape, resize, squeeze, swapaxes, take, transpose, vsplit, vstack |\n",
    "| Questions | all, any, nonzero, where |\n",
    "| Ordering | argmax, argmin, argsort, max, min, ptp, searchsorted, sort |\n",
    "| Operations | choose, compress, cumprod, cumsum, inner, ndarray.fill, imag, prod, put, putmask, real, sum |\n",
    "| Basic Statistics | cov, mean, std, var |\n",
    "| Basic Linear Algebra | cross, dot, outer, linalg.svd, vdot |"
   ]
  },
  {
   "cell_type": "code",
   "execution_count": 34,
   "metadata": {},
   "outputs": [
    {
     "name": "stdout",
     "output_type": "stream",
     "text": [
      "[[[ 0  1  2  3]\n",
      "  [ 4  5  6  7]\n",
      "  [ 8  9 10 11]]\n",
      "\n",
      " [[12 13 14 15]\n",
      "  [16 17 18 19]\n",
      "  [20 21 22 23]]]\n",
      "[[1 1 1 1]\n",
      " [1 1 1 1]\n",
      " [1 1 1 1]]\n",
      "[[2 2 2 2]\n",
      " [2 2 2 2]]\n",
      "[[3 3 3]\n",
      " [3 3 3]]\n"
     ]
    }
   ],
   "source": [
    "a = np.arange(24).reshape(2,3,4)\n",
    "print(a)\n",
    "print(np.argmax(a,axis=0)) # along the axis 0 - same axis 1&2 index - shape=(shape[1],shape[2])\n",
    "print(np.argmax(a,axis=1)) # along the axis 1 - same axis 0&2 index\n",
    "print(np.argmax(a,axis=2)) # along the axis 2 - same axis 0&1 index"
   ]
  }
 ],
 "metadata": {
  "kernelspec": {
   "display_name": "Python 3",
   "language": "python",
   "name": "python3"
  },
  "language_info": {
   "codemirror_mode": {
    "name": "ipython",
    "version": 3
   },
   "file_extension": ".py",
   "mimetype": "text/x-python",
   "name": "python",
   "nbconvert_exporter": "python",
   "pygments_lexer": "ipython3",
   "version": "3.8.10"
  },
  "orig_nbformat": 4,
  "vscode": {
   "interpreter": {
    "hash": "eab0dd482f3dcae5c1f0dfc0b14ce756c69c7dc00e6a81f898fb2db6e1cf58dc"
   }
  }
 },
 "nbformat": 4,
 "nbformat_minor": 2
}
