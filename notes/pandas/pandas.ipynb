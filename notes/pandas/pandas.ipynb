{
 "cells": [
  {
   "cell_type": "markdown",
   "metadata": {},
   "source": [
    "# Pandas Basics\n"
   ]
  },
  {
   "cell_type": "code",
   "execution_count": 1,
   "metadata": {},
   "outputs": [],
   "source": [
    "import numpy as np\n",
    "import pandas as pd"
   ]
  },
  {
   "cell_type": "markdown",
   "metadata": {},
   "source": [
    "## 1. Intro to Data Structures\n",
    "### 1.1 Sereies\n",
    "`Series` is a **one-dimensional labeled array** capable of holding any data type (integers, strings, floating point numbers, Python objects, etc.). The axis labels are collectively referred to as the index. \n",
    "#### 1.1.1 Object Creation\n",
    "The basic method to create a Series is to call: \n",
    "``` \n",
    "s = pd.Series(data=data, index=index)\n",
    "```"
   ]
  },
  {
   "cell_type": "code",
   "execution_count": 2,
   "metadata": {},
   "outputs": [
    {
     "name": "stdout",
     "output_type": "stream",
     "text": [
      "0    1.0\n",
      "1    3.0\n",
      "2    5.0\n",
      "3    NaN\n",
      "4    6.0\n",
      "5    8.0\n",
      "dtype: float64\n"
     ]
    }
   ],
   "source": [
    "s = pd.Series(data=[1, 3, 5, np.nan, 6, 8])\n",
    "print(s)"
   ]
  },
  {
   "cell_type": "markdown",
   "metadata": {},
   "source": [
    "**Creation from ndarray**\n",
    "\n",
    "If data is an ndarray, `index` must be the same length as `data`. If no index is passed, one will be created having values `[0, ..., len(data) - 1]`."
   ]
  },
  {
   "cell_type": "code",
   "execution_count": 3,
   "metadata": {},
   "outputs": [
    {
     "name": "stdout",
     "output_type": "stream",
     "text": [
      "a    0\n",
      "b    1\n",
      "c    2\n",
      "d    3\n",
      "e    4\n",
      "dtype: int32\n",
      "Index(['a', 'b', 'c', 'd', 'e'], dtype='object')\n"
     ]
    }
   ],
   "source": [
    "s = pd.Series(data=np.arange(5), index=['a', 'b', 'c', 'd', 'e'])\n",
    "print(s)\n",
    "print(s.index)"
   ]
  },
  {
   "cell_type": "markdown",
   "metadata": {},
   "source": [
    "**Creation from dict**\n",
    "\n",
    "If an `index` is passed, the values in data corresponding to the labels in the `index` will be pulled out. The `dtype` is the same as that of the dict"
   ]
  },
  {
   "cell_type": "code",
   "execution_count": 4,
   "metadata": {},
   "outputs": [
    {
     "name": "stdout",
     "output_type": "stream",
     "text": [
      "a    0\n",
      "b    1\n",
      "c    2\n",
      "d    3\n",
      "dtype: int64\n",
      "a    0\n",
      "c    2\n",
      "dtype: int64\n"
     ]
    }
   ],
   "source": [
    "d = {'a' : 0, 'b' : 1, 'c' : 2, 'd' : 3}\n",
    "s = pd.Series(data=d)\n",
    "print(s)\n",
    "s = pd.Series(data=d, index=['a', 'c'])\n",
    "print(s)"
   ]
  },
  {
   "cell_type": "markdown",
   "metadata": {},
   "source": [
    "**Creation from Scalar Value**\n",
    "\n",
    "If data is a scalar value, an `index` must be provided. The value will be repeated to match the length of `index`. The `dtype` is the same as that of the scalar"
   ]
  },
  {
   "cell_type": "code",
   "execution_count": 5,
   "metadata": {},
   "outputs": [
    {
     "name": "stdout",
     "output_type": "stream",
     "text": [
      "0    name\n",
      "1    name\n",
      "2    name\n",
      "3    name\n",
      "4    name\n",
      "dtype: object\n"
     ]
    }
   ],
   "source": [
    "s = pd.Series(data='name', index=[e for e in range(5)])\n",
    "print(s)"
   ]
  },
  {
   "cell_type": "markdown",
   "metadata": {},
   "source": [
    "#### 1.1.2 Series is ndarray-like and dict-like\n",
    "Series acts very similarly to a `ndarray` and is a valid argument to most NumPy functions. However, operations such as slicing will also slice the index."
   ]
  },
  {
   "cell_type": "code",
   "execution_count": 6,
   "metadata": {},
   "outputs": [
    {
     "name": "stdout",
     "output_type": "stream",
     "text": [
      "a    0\n",
      "b    1\n",
      "c    2\n",
      "d    3\n",
      "e    4\n",
      "dtype: int32\n",
      "b    1\n",
      "c    2\n",
      "dtype: int32\n",
      "e    4\n",
      "d    3\n",
      "b    1\n",
      "dtype: int32\n",
      "d    3\n",
      "e    4\n",
      "dtype: int32\n",
      "a     1.000000\n",
      "b     2.718282\n",
      "c     7.389056\n",
      "d    20.085537\n",
      "e    54.598150\n",
      "dtype: float64\n"
     ]
    }
   ],
   "source": [
    "s = pd.Series(data=np.arange(5), index=['a', 'b', 'c', 'd', 'e'])\n",
    "print(s)\n",
    "print(s[1:3])\n",
    "print(s[[4, 3, 1]])\n",
    "print(s[s > s.median()])\n",
    "print(np.exp(s))"
   ]
  },
  {
   "cell_type": "markdown",
   "metadata": {},
   "source": [
    "While Series is ndarray-like, if you need an actual ndarray, then use `Series.to_numpy()`.\n",
    "\n",
    "A key difference between Series and ndarray is that operations between Series automatically align the data based on label. Thus, you can write computations without giving consideration to whether the Series involved have the same labels. The result of an operation between unaligned Series will have the union of the indexes involved. If a label is not found in one Series or the other, the result will be marked as missing `NaN`."
   ]
  },
  {
   "cell_type": "code",
   "execution_count": 7,
   "metadata": {},
   "outputs": [
    {
     "name": "stdout",
     "output_type": "stream",
     "text": [
      "b    1\n",
      "c    2\n",
      "d    3\n",
      "e    4\n",
      "dtype: int32\n",
      "a    0\n",
      "b    1\n",
      "c    2\n",
      "d    3\n",
      "dtype: int32\n",
      "a    NaN\n",
      "b    2.0\n",
      "c    4.0\n",
      "d    6.0\n",
      "e    NaN\n",
      "dtype: float64\n"
     ]
    }
   ],
   "source": [
    "print(s[1:])\n",
    "print(s[:-1])\n",
    "print(s[1:] + s[:-1])"
   ]
  },
  {
   "cell_type": "markdown",
   "metadata": {},
   "source": [
    "A Series is also like a fixed-size dict in that you can get and set values by index label:"
   ]
  },
  {
   "cell_type": "code",
   "execution_count": 8,
   "metadata": {},
   "outputs": [
    {
     "name": "stdout",
     "output_type": "stream",
     "text": [
      "0\n",
      "a    0\n",
      "b    1\n",
      "c    2\n",
      "d    3\n",
      "e    6\n",
      "dtype: int32\n",
      "True\n",
      "False\n"
     ]
    }
   ],
   "source": [
    "print(s['a'])\n",
    "s['e'] = 6\n",
    "print(s)\n",
    "print('a' in s)\n",
    "print('g' in s)"
   ]
  },
  {
   "cell_type": "markdown",
   "metadata": {},
   "source": [
    "If a label is not contained in the index, an exception is raised. Using the `Series.get()` method, a missing label will return None or specified default."
   ]
  },
  {
   "cell_type": "code",
   "execution_count": 9,
   "metadata": {},
   "outputs": [
    {
     "name": "stdout",
     "output_type": "stream",
     "text": [
      "nan\n"
     ]
    }
   ],
   "source": [
    "print(s.get('g', default=np.nan))"
   ]
  },
  {
   "cell_type": "markdown",
   "metadata": {},
   "source": [
    "#### 1.1.3 Name attribute\n",
    "The Series name can be assigned automatically in many cases, in particular, when selecting a single column from a DataFrame, the name will be assigned the column label.\n",
    "\n",
    "You can rename a Series with the `Series.rename()` method. Note that this function returns a new object"
   ]
  },
  {
   "cell_type": "code",
   "execution_count": 10,
   "metadata": {},
   "outputs": [
    {
     "name": "stdout",
     "output_type": "stream",
     "text": [
      "0    1.446907\n",
      "1    0.664959\n",
      "2   -0.139015\n",
      "3   -0.506139\n",
      "4    1.068392\n",
      "Name: example, dtype: float64\n",
      "new name\n"
     ]
    }
   ],
   "source": [
    "s = pd.Series(np.random.randn(5), name='example')\n",
    "print(s)\n",
    "s = s.rename('new name')\n",
    "print(s.name)"
   ]
  },
  {
   "cell_type": "markdown",
   "metadata": {},
   "source": [
    "### 1.2 DataFrame\n",
    "`DataFrame` is a 2-dimensional labeled data structure with columns of potentially different types. You can think of it like a spreadsheet or SQL table, or a dict of `Series` objects. \n",
    "#### 1.2.1 Object Creation\n",
    "**Creation from dict of Series / ndarray / list** - column by column, add index at last"
   ]
  },
  {
   "cell_type": "code",
   "execution_count": 11,
   "metadata": {},
   "outputs": [
    {
     "name": "stdout",
     "output_type": "stream",
     "text": [
      "   feature1  feature2\n",
      "a       1.0       1.0\n",
      "b       2.0       2.0\n",
      "c       3.0       3.0\n",
      "d       NaN       4.0\n",
      "Index(['a', 'b', 'c', 'd'], dtype='object')\n",
      "Index(['feature1', 'feature2'], dtype='object')\n"
     ]
    }
   ],
   "source": [
    "d = {\n",
    "    'feature1' : pd.Series([1.0, 2.0, 3.0], index=['a', 'b', 'c']),\n",
    "    'feature2' : pd.Series([1.0, 2.0, 3.0, 4.0], index=['a', 'b', 'c', 'd']),\n",
    "}\n",
    "df = pd.DataFrame(data=d)\n",
    "print(df)\n",
    "print(df.index)\n",
    "print(df.columns)"
   ]
  },
  {
   "cell_type": "markdown",
   "metadata": {},
   "source": [
    "All ndarrays must share the same length. If an index is passed, it must also be the same length as the arrays. If no index is passed, the result will be `range(n)`, where `n` is the array length."
   ]
  },
  {
   "cell_type": "code",
   "execution_count": 12,
   "metadata": {},
   "outputs": [
    {
     "name": "stdout",
     "output_type": "stream",
     "text": [
      "   feature1  feature2\n",
      "0       1.0       4.0\n",
      "1       2.0       3.0\n",
      "2       3.0       2.0\n",
      "3       4.0       1.0\n",
      "      feature1  feature2\n",
      "row1       1.0       4.0\n",
      "row2       2.0       3.0\n",
      "row3       3.0       2.0\n",
      "row4       4.0       1.0\n"
     ]
    }
   ],
   "source": [
    "d = {\n",
    "    'feature1' : [1.0, 2.0, 3.0, 4.0],\n",
    "    'feature2' : [4.0, 3.0, 2.0, 1.0]\n",
    "}\n",
    "df = pd.DataFrame(data=d)\n",
    "print(df)\n",
    "df = pd.DataFrame(data=d, index=['row1', 'row2', 'row3', 'row4'])\n",
    "print(df)"
   ]
  },
  {
   "cell_type": "markdown",
   "metadata": {},
   "source": [
    "**Creation from a list of dicts / namedtuples / dataclasses** - row by row, add index at last"
   ]
  },
  {
   "cell_type": "code",
   "execution_count": 13,
   "metadata": {},
   "outputs": [
    {
     "name": "stdout",
     "output_type": "stream",
     "text": [
      "   a   b     c\n",
      "0  1   2   NaN\n",
      "1  5  10  20.0\n",
      "      a   b     c\n",
      "row1  1   2   NaN\n",
      "row2  5  10  20.0\n"
     ]
    }
   ],
   "source": [
    "l = [\n",
    "    {'a' : 1, 'b' : 2},\n",
    "    {'a' : 5, 'b' : 10, 'c' : 20}\n",
    "]\n",
    "df = pd.DataFrame(data=l)\n",
    "print(df)\n",
    "df = pd.DataFrame(data=l, index=['row1', 'row2'])\n",
    "print(df)"
   ]
  },
  {
   "cell_type": "code",
   "execution_count": 14,
   "metadata": {},
   "outputs": [
    {
     "name": "stdout",
     "output_type": "stream",
     "text": [
      "        x  y\n",
      "point1  0  0\n",
      "point2  0  3\n",
      "point3  2  3\n"
     ]
    }
   ],
   "source": [
    "from collections import namedtuple\n",
    "Point = namedtuple(typename='Point', field_names='x y')\n",
    "l = [Point(0, 0), Point(0, 3), Point(2, 3)]\n",
    "df = pd.DataFrame(data=l, index=['point1', 'point2', 'point3'])\n",
    "print(df)"
   ]
  },
  {
   "cell_type": "code",
   "execution_count": 15,
   "metadata": {},
   "outputs": [
    {
     "name": "stdout",
     "output_type": "stream",
     "text": [
      "   x  y  z\n",
      "0  0  0  0\n",
      "1  0  3  5\n",
      "2  2  3  1\n"
     ]
    }
   ],
   "source": [
    "from dataclasses import make_dataclass\n",
    "Point_3D = make_dataclass(cls_name='Point_3D', fields=[('x', int), ('y', int), ('z', int)])\n",
    "l = [Point_3D(0, 0, 0), Point_3D(0, 3, 5), Point_3D(2, 3, 1)]\n",
    "df = pd.DataFrame(data=l)\n",
    "print(df)"
   ]
  },
  {
   "cell_type": "markdown",
   "metadata": {},
   "source": [
    "**Creation by `DataFrame.from_dict()`**\n",
    "\n",
    "It operates like the DataFrame constructor except for the orient parameter which is 'columns' by default, but which can be set to 'index' in order to use the dict keys as row labels."
   ]
  },
  {
   "cell_type": "code",
   "execution_count": 16,
   "metadata": {},
   "outputs": [
    {
     "name": "stdout",
     "output_type": "stream",
     "text": [
      "   a  b\n",
      "0  1  4\n",
      "1  2  5\n",
      "2  3  6\n",
      "   0  1  2\n",
      "a  1  2  3\n",
      "b  4  5  6\n"
     ]
    }
   ],
   "source": [
    "d = {\n",
    "    'a' : [1, 2, 3],\n",
    "    'b' : [4, 5, 6]\n",
    "}\n",
    "df = pd.DataFrame.from_dict(data=d, orient='columns') # default\n",
    "print(df)\n",
    "df = pd.DataFrame.from_dict(data=d, orient='index')\n",
    "print(df)"
   ]
  },
  {
   "cell_type": "markdown",
   "metadata": {},
   "source": [
    "![](./src/img/001.png)"
   ]
  },
  {
   "cell_type": "markdown",
   "metadata": {},
   "source": [
    "#### 1.2.2 Basic Column Operations"
   ]
  },
  {
   "cell_type": "code",
   "execution_count": 17,
   "metadata": {},
   "outputs": [
    {
     "name": "stdout",
     "output_type": "stream",
     "text": [
      "        x  y\n",
      "point1  0  0\n",
      "point2  2  1\n",
      "point3  1  5\n",
      "point1    0\n",
      "point2    2\n",
      "point3    1\n",
      "Name: x, dtype: int64\n",
      "        x  y  z\n",
      "point1  0  0  0\n",
      "point2  2  1  3\n",
      "point3  1  5  6\n",
      "        x  y  z   flag\n",
      "point1  0  0  0  False\n",
      "point2  2  1  3   True\n",
      "point3  1  5  6   True\n",
      "        x  y  z   flag  xxx\n",
      "point1  0  0  0  False    0\n",
      "point2  2  1  3   True    0\n",
      "point3  1  5  6   True    0\n",
      "        x  y  z   flag\n",
      "point1  0  0  0  False\n",
      "point2  2  1  3   True\n",
      "point3  1  5  6   True\n",
      "        x  y  z\n",
      "point1  0  0  0\n",
      "point2  2  1  3\n",
      "point3  1  5  6\n",
      "point1    False\n",
      "point2     True\n",
      "point3     True\n",
      "Name: flag, dtype: bool\n"
     ]
    }
   ],
   "source": [
    "l = [{'x' : 0, 'y' : 0}, {'x' : 2 , 'y' : 1}, {'x' : 1, 'y' : 5}]\n",
    "df = pd.DataFrame(data=l, index=['point1', 'point2', 'point3'])\n",
    "print(df)\n",
    "print(df['x']) # selection\n",
    "df['z'] = df['x'] + df['y'] # Series addition & insertion\n",
    "print(df)\n",
    "df['flag'] = df['z'] > 2\n",
    "print(df)\n",
    "df['xxx'] = 0 # scalar insertion\n",
    "print(df)\n",
    "del df['xxx'] # deletion\n",
    "print(df)\n",
    "featureFlag = df.pop('flag') # pop feature Series\n",
    "print(df)\n",
    "print(featureFlag)"
   ]
  },
  {
   "cell_type": "markdown",
   "metadata": {},
   "source": [
    "When inserting a `Series` that does not have the same index as the DataFrame, it will be conformed to the DataFrame’s index.\n",
    "\n",
    "By default, columns get inserted at the end. `DataFrame.insert()` inserts at a particular location in the columns."
   ]
  },
  {
   "cell_type": "code",
   "execution_count": 18,
   "metadata": {},
   "outputs": [
    {
     "name": "stdout",
     "output_type": "stream",
     "text": [
      "        x  y  z  xxx\n",
      "point1  0  0  0  1.0\n",
      "point2  2  1  3  2.0\n",
      "point3  1  5  6  NaN\n",
      "        x  yyy  y  z  xxx\n",
      "point1  0    1  0  0  1.0\n",
      "point2  2    2  1  3  2.0\n",
      "point3  1    3  5  6  NaN\n"
     ]
    }
   ],
   "source": [
    "df['xxx'] = pd.Series({'point1' : 1, 'point2' : 2})\n",
    "print(df)\n",
    "df.insert(loc=1, column='yyy', value=pd.Series(data=[1, 2, 3], index=df.index))\n",
    "print(df)"
   ]
  },
  {
   "cell_type": "markdown",
   "metadata": {},
   "source": [
    "**Assigning new columns in method chains**"
   ]
  },
  {
   "cell_type": "markdown",
   "metadata": {},
   "source": [
    "`DataFrame` has an `assign()` method that allows you to easily create new columns that are potentially derived from existing columns.\n",
    "\n",
    "Note that this function always returns a copy of the data, leaving the original DataFrame untouched."
   ]
  },
  {
   "cell_type": "code",
   "execution_count": 19,
   "metadata": {},
   "outputs": [
    {
     "name": "stdout",
     "output_type": "stream",
     "text": [
      "   SepalLength  SepalWidth  PetalLength  PetalWidth         Name\n",
      "0          5.1         3.5          1.4         0.2  Iris-setosa\n",
      "1          4.9         3.0          1.4         0.2  Iris-setosa\n",
      "2          4.7         3.2          1.3         0.2  Iris-setosa\n",
      "3          4.6         3.1          1.5         0.2  Iris-setosa\n",
      "4          5.0         3.6          1.4         0.2  Iris-setosa\n",
      "   SepalLength  SepalWidth  PetalLength  PetalWidth         Name  sepal_ratio\n",
      "0          5.1         3.5          1.4         0.2  Iris-setosa     0.686275\n",
      "1          4.9         3.0          1.4         0.2  Iris-setosa     0.612245\n",
      "2          4.7         3.2          1.3         0.2  Iris-setosa     0.680851\n",
      "3          4.6         3.1          1.5         0.2  Iris-setosa     0.673913\n",
      "4          5.0         3.6          1.4         0.2  Iris-setosa     0.720000\n"
     ]
    }
   ],
   "source": [
    "iris = pd.read_csv('data/iris.data')\n",
    "print(iris.head())\n",
    "iris_2 = iris.assign(sepal_ratio=iris['SepalWidth'] / iris['SepalLength'])\n",
    "print(iris_2.head())"
   ]
  },
  {
   "cell_type": "code",
   "execution_count": 20,
   "metadata": {},
   "outputs": [
    {
     "data": {
      "text/plain": [
       "<Axes: xlabel='SepalRatio', ylabel='PetalRatio'>"
      ]
     },
     "execution_count": 20,
     "metadata": {},
     "output_type": "execute_result"
    },
    {
     "data": {
      "image/png": "[encoded data removed]",
      "text/plain": [
       "<Figure size 640x480 with 1 Axes>"
      ]
     },
     "metadata": {},
     "output_type": "display_data"
    }
   ],
   "source": [
    "iris.query('SepalLength > 5').assign(\n",
    "    SepalRatio=lambda x : x.SepalWidth / x.SepalLength,\n",
    "    PetalRatio=lambda x : x.PetalWidth / x.PetalLength,\n",
    ").plot(kind='scatter', x='SepalRatio', y='PetalRatio')"
   ]
  },
  {
   "cell_type": "markdown",
   "metadata": {},
   "source": [
    "#### 1.2.3 Basic Row Operations\n",
    "**Indexing and selection**\n",
    "\n",
    "`.loc[]` is primarily label based, but may also be used with a boolean array. `KeyError` will be raised when the items are not found. Allowed inputs are:\n",
    "- A single label, e.g. `df.loc[5]` or `df.loc['a']` (note that 5 is interpreted as a label, not an integer position).\n",
    "- A list or array of labels, e.g. `df.loc[['a', 'b', 'c']]`.\n",
    "- A slice object with labels, e.g. `df.loc['a':'f']` (note that start and the stop are both included!).\n",
    "- A boolean array, e.g. `df.loc[[True, False, False, True]]`.\n",
    "- A callable function with one argument and that returns valid output for indexing (one of the above).\n",
    "- A tuple of row (and column) indices whose elements are one of the above inputs.\n",
    "\n",
    "`.iloc[]` is primarily integer position based, but may also be used with a boolean array. Allowed inputs are similar to that above."
   ]
  },
  {
   "cell_type": "code",
   "execution_count": 21,
   "metadata": {},
   "outputs": [
    {
     "name": "stdout",
     "output_type": "stream",
     "text": [
      "      a  b\n",
      "row1  1  5\n",
      "row2  2  6\n",
      "row3  3  7\n",
      "row4  4  8\n",
      "a    2\n",
      "b    6\n",
      "Name: row2, dtype: int64\n",
      "a    3\n",
      "b    7\n",
      "Name: row3, dtype: int64\n",
      "      a  b\n",
      "row2  2  6\n",
      "row3  3  7\n",
      "      a  b\n",
      "row1  1  5\n",
      "row4  4  8\n"
     ]
    }
   ],
   "source": [
    "df = pd.DataFrame({\n",
    "    'a' : [1, 2, 3, 4],\n",
    "    'b' : [5, 6, 7, 8],\n",
    "}, index=['row1', 'row2', 'row3', 'row4'])\n",
    "print(df)\n",
    "# select row by label\n",
    "print(df.loc['row2']) \n",
    "# select row by integer location\n",
    "print(df.iloc[2]) \n",
    "# slice rows\n",
    "print(df[1:3]) \n",
    "# select rows by boolean vector\n",
    "print(df[[True, False, False, True]])"
   ]
  },
  {
   "cell_type": "markdown",
   "metadata": {},
   "source": [
    "**Data alignment and arithmetic**\n",
    "\n",
    "Data alignment between DataFrame objects automatically align on both the columns and the index (row labels). Again, the resulting object will have the union of the column and row labels."
   ]
  },
  {
   "cell_type": "code",
   "execution_count": 22,
   "metadata": {},
   "outputs": [
    {
     "name": "stdout",
     "output_type": "stream",
     "text": [
      "          A         B         C   D\n",
      "0  0.825654  1.931173  0.928957 NaN\n",
      "1 -1.220152  1.527781  0.477443 NaN\n",
      "2 -3.740026  0.606769  0.631911 NaN\n",
      "3  0.211717  1.961590  0.210054 NaN\n",
      "4  1.093545  1.354081 -1.568927 NaN\n",
      "5 -0.300170 -0.213558 -1.818225 NaN\n",
      "6 -0.039187 -1.205637  0.407435 NaN\n",
      "7       NaN       NaN       NaN NaN\n",
      "8       NaN       NaN       NaN NaN\n",
      "9       NaN       NaN       NaN NaN\n"
     ]
    }
   ],
   "source": [
    "df1 = pd.DataFrame(np.random.randn(10, 4), columns=['A', 'B', 'C', 'D'])\n",
    "df2 = pd.DataFrame(np.random.randn(7, 3), columns=['A', 'B', 'C'])\n",
    "print(df1 + df2)"
   ]
  },
  {
   "cell_type": "markdown",
   "metadata": {},
   "source": [
    "When doing an operation between DataFrame and Series, the default behavior is to align the Series index on the DataFrame columns, thus **broadcasting row-wise**. "
   ]
  },
  {
   "cell_type": "code",
   "execution_count": 23,
   "metadata": {},
   "outputs": [
    {
     "name": "stdout",
     "output_type": "stream",
     "text": [
      "          A         B         C         D\n",
      "0  0.000000  0.000000  0.000000  0.000000\n",
      "1 -1.374461 -0.553218 -0.251092  0.794004\n",
      "2 -3.637088 -0.341395 -1.652321 -1.083402\n",
      "3 -1.333143 -1.227679 -2.522310 -0.230766\n",
      "4 -0.664750 -0.812701 -1.957568 -1.047162\n",
      "5 -1.132060 -0.230326 -2.927800  0.387903\n",
      "6  0.015378 -1.225588 -0.577618 -1.122810\n",
      "7 -0.100212 -2.564677 -2.667189 -0.253086\n",
      "8 -0.613487 -1.520707 -1.343296 -0.379062\n",
      "9 -0.864153 -1.328578 -2.104759 -0.459639\n"
     ]
    }
   ],
   "source": [
    "print(df1 - df1.iloc[0])"
   ]
  },
  {
   "cell_type": "markdown",
   "metadata": {},
   "source": [
    "Arithmetic operations with scalars operate element-wise. Boolean operators operate element-wise as well.\n",
    "\n",
    "#### 1.2.4 Transposing\n",
    "To transpose, access the `T` attribute or `DataFrame.transpose()`, similar to an `ndarray`:"
   ]
  },
  {
   "cell_type": "code",
   "execution_count": 24,
   "metadata": {},
   "outputs": [
    {
     "name": "stdout",
     "output_type": "stream",
     "text": [
      "   row1  row2  row3  row4\n",
      "a     1     2     3     4\n",
      "b     5     6     7     8\n"
     ]
    }
   ],
   "source": [
    "print(df[:5].T)"
   ]
  },
  {
   "cell_type": "markdown",
   "metadata": {},
   "source": [
    "#### 1.2.5 DataFrame interoperability with NumPy functions\n",
    "Most NumPy functions can be called directly on `Series` and `DataFrame`."
   ]
  },
  {
   "cell_type": "code",
   "execution_count": 25,
   "metadata": {},
   "outputs": [
    {
     "name": "stdout",
     "output_type": "stream",
     "text": [
      "          A         B         C         D\n",
      "0  0.885377  3.188095 -1.201068  1.425437\n",
      "1  0.359850  0.887993  0.151893  0.949379\n",
      "2  0.421642 -1.072589  2.096968 -1.606279\n",
      "3  0.646256 -0.868147  0.290136 -0.983796\n",
      "4  0.270586 -1.338148  0.313434  0.283099\n",
      "5  0.285038 -0.455102 -0.872234 -0.318779\n",
      "6 -0.076130 -0.014806  0.411421 -0.197789\n",
      "7  0.046925 -0.619649 -0.738925  0.181338\n",
      "8 -2.776227 -0.517981 -0.340350 -0.110206\n",
      "9 -0.349380  0.749692 -0.332395 -1.272434\n",
      "          A          B         C         D\n",
      "0  2.423897  24.242191  0.300873  4.159674\n",
      "1  1.433114   2.430247  1.164036  2.584104\n",
      "2  1.524463   0.342122  8.141446  0.200633\n",
      "3  1.908382   0.419728  1.336609  0.373889\n",
      "4  1.310733   0.262331  1.368115  1.327236\n",
      "5  1.329813   0.634383  0.418017  0.727037\n",
      "6  0.926696   0.985303  1.508961  0.820543\n",
      "7  1.048043   0.538133  0.477627  1.198820\n",
      "8  0.062273   0.595722  0.711521  0.895650\n",
      "9  0.705125   2.116348  0.717204  0.280149\n",
      "[[ 0.88537653  3.18809453 -1.20106807  1.42543671]\n",
      " [ 0.3598499   0.88799282  0.15189348  0.94937872]\n",
      " [ 0.42164245 -1.07258856  2.0969678  -1.60627945]\n",
      " [ 0.64625564 -0.86814744  0.29013599 -0.98379588]\n",
      " [ 0.27058633 -1.33814815  0.31343419  0.28309893]\n",
      " [ 0.28503837 -0.45510214 -0.87223355 -0.31877853]\n",
      " [-0.07612965 -0.0148065   0.41142137 -0.19778914]\n",
      " [ 0.04692464 -0.61964928 -0.73892466  0.18133787]\n",
      " [-2.77622716 -0.51798119 -0.34034975 -0.11020594]\n",
      " [-0.34938049  0.74969206 -0.33239536 -1.27243357]]\n"
     ]
    }
   ],
   "source": [
    "df = pd.DataFrame(np.random.randn(10, 4), columns=['A', 'B', 'C', 'D'])\n",
    "print(df)\n",
    "print(np.exp(df))\n",
    "print(np.asarray(df))"
   ]
  },
  {
   "cell_type": "markdown",
   "metadata": {},
   "source": [
    "#### 1.2.6 Console Display"
   ]
  },
  {
   "cell_type": "code",
   "execution_count": 26,
   "metadata": {},
   "outputs": [
    {
     "name": "stdout",
     "output_type": "stream",
     "text": [
      "   SepalLength  SepalWidth  PetalLength  PetalWidth         Name\n",
      "0          5.1         3.5          1.4         0.2  Iris-setosa\n",
      "1          4.9         3.0          1.4         0.2  Iris-setosa\n",
      "2          4.7         3.2          1.3         0.2  Iris-setosa\n",
      "3          4.6         3.1          1.5         0.2  Iris-setosa\n",
      "4          5.0         3.6          1.4         0.2  Iris-setosa\n",
      "<class 'pandas.core.frame.DataFrame'>\n",
      "RangeIndex: 150 entries, 0 to 149\n",
      "Data columns (total 5 columns):\n",
      " #   Column       Non-Null Count  Dtype  \n",
      "---  ------       --------------  -----  \n",
      " 0   SepalLength  150 non-null    float64\n",
      " 1   SepalWidth   150 non-null    float64\n",
      " 2   PetalLength  150 non-null    float64\n",
      " 3   PetalWidth   150 non-null    float64\n",
      " 4   Name         150 non-null    object \n",
      "dtypes: float64(4), object(1)\n",
      "memory usage: 6.0+ KB\n",
      "None\n",
      "   SepalLength  SepalWidth  PetalLength  PetalWidth         Name\n",
      "0          5.1         3.5          1.4         0.2  Iris-setosa\n",
      "1          4.9         3.0          1.4         0.2  Iris-setosa\n",
      "2          4.7         3.2          1.3         0.2  Iris-setosa\n",
      "     SepalLength  SepalWidth  PetalLength  PetalWidth            Name\n",
      "145          6.7         3.0          5.2         2.3  Iris-virginica\n",
      "146          6.3         2.5          5.0         1.9  Iris-virginica\n",
      "147          6.5         3.0          5.2         2.0  Iris-virginica\n",
      "148          6.2         3.4          5.4         2.3  Iris-virginica\n",
      "149          5.9         3.0          5.1         1.8  Iris-virginica\n"
     ]
    }
   ],
   "source": [
    "iris = pd.read_csv('./data/iris.data')\n",
    "print(iris.head())\n",
    "print(iris.info())\n",
    "print(iris.head(n=3))\n",
    "print(iris.tail())"
   ]
  },
  {
   "cell_type": "markdown",
   "metadata": {},
   "source": [
    "## 2. Essential Basic Functionality"
   ]
  },
  {
   "cell_type": "markdown",
   "metadata": {},
   "source": [
    "### 2.1 Attributes And Underlying Data\n",
    "`array` will always be an `ExtensionArray`. If you know you need a NumPy array, use `to_numpy()` or `numpy.asarray()`.\n",
    "\n",
    "When your DataFrame only has a single data type for all the columns, `DataFrame.to_numpy()` will return the underlying data."
   ]
  },
  {
   "cell_type": "code",
   "execution_count": 27,
   "metadata": {},
   "outputs": [
    {
     "name": "stdout",
     "output_type": "stream",
     "text": [
      "<PandasArray>\n",
      "[ -1.4400114505768273,  0.40731610918650696,    0.135013813304711,\n",
      " -0.09869057266912312,  0.08458755402472613]\n",
      "Length: 5, dtype: float64\n",
      "<PandasArray>\n",
      "['a', 'b', 'c', 'd', 'e']\n",
      "Length: 5, dtype: object\n",
      "<PandasArray>\n",
      "['A', 'B', 'C']\n",
      "Length: 3, dtype: object\n",
      "<DatetimeArray>\n",
      "['2000-01-01 00:00:00', '2000-01-02 00:00:00', '2000-01-03 00:00:00',\n",
      " '2000-01-04 00:00:00', '2000-01-05 00:00:00', '2000-01-06 00:00:00',\n",
      " '2000-01-07 00:00:00', '2000-01-08 00:00:00']\n",
      "Length: 8, dtype: datetime64[ns]\n",
      "[[ 1.7008885  -1.3039652   1.09439138]\n",
      " [ 0.30164861 -1.70546964  0.713533  ]\n",
      " [ 1.38808868  0.18600931  0.56141662]\n",
      " [ 0.14819646 -0.04763324 -1.21852726]\n",
      " [ 1.72963884  2.37139284 -0.77863333]\n",
      " [ 1.40730034  0.209347    0.13449628]\n",
      " [ 1.66999037 -0.86725015  1.68182274]\n",
      " [ 1.27329699 -0.29799191 -0.85982204]]\n"
     ]
    }
   ],
   "source": [
    "s = pd.Series(np.random.randn(5), index=['a', 'b', 'c', 'd', 'e'])\n",
    "df = pd.DataFrame(data=np.random.randn(8, 3), index=pd.date_range('1/1/2000', periods=8), columns=['A', 'B', 'C'])\n",
    "print(s.array)\n",
    "print(s.index.array)\n",
    "print(df.columns.array)\n",
    "print(df.index.array)\n",
    "print(df.to_numpy())"
   ]
  },
  {
   "cell_type": "markdown",
   "metadata": {},
   "source": [
    "### 2.2 Flexible Binary Operations\n",
    "With binary operations between pandas data structures, there are two key points of interest:\n",
    "- Broadcasting behavior between higher- (e.g. DataFrame) and lower-dimensional (e.g. Series) objects.\n",
    "- Missing data in computations.\n",
    "\n",
    "**Matching / broadcasting behavior**\n",
    "\n",
    "DataFrame has the methods `add()`, `sub()`, `mul()`, `div()` and related functions `radd()`, `rsub()`, … for carrying out binary operations. \n",
    "\n",
    "For broadcasting behavior, Series input is of primary interest. Using these functions, you can use to either match on the `'index'` or `'columns'` via the axis keyword."
   ]
  },
  {
   "cell_type": "code",
   "execution_count": 30,
   "metadata": {},
   "outputs": [
    {
     "name": "stdout",
     "output_type": "stream",
     "text": [
      "       col1      col2      col3\n",
      "a -0.440291 -0.604238       NaN\n",
      "b -0.973443  0.362099 -1.399228\n",
      "c  1.192359 -0.022774  0.349036\n",
      "d       NaN  0.337684  1.174949\n",
      "       col1      col2      col3\n",
      "a  0.533152 -0.966337       NaN\n",
      "b  0.000000  0.000000  0.000000\n",
      "c  2.165802 -0.384872  1.748264\n",
      "d       NaN -0.024415  2.574177\n",
      "       col1      col2      col3\n",
      "a -1.044529 -1.208476       NaN\n",
      "b -0.611344  0.724197 -1.037129\n",
      "c  1.169585 -0.045547  0.326263\n",
      "d       NaN  0.675368  1.512633\n"
     ]
    }
   ],
   "source": [
    "df = pd.DataFrame({\n",
    "    'col1' : pd.Series(np.random.randn(3), index=['a', 'b', 'c']),\n",
    "    'col2' : pd.Series(np.random.randn(4), index=['a', 'b', 'c', 'd']),\n",
    "    'col3' : pd.Series(np.random.randn(3), index=['b', 'c', 'd'])\n",
    "})\n",
    "print(df)\n",
    "row = df.iloc[1]\n",
    "print(df.sub(other=row, axis='columns'))\n",
    "col = df['col2']\n",
    "print(df.add(other=col, axis='index'))"
   ]
  },
  {
   "cell_type": "markdown",
   "metadata": {},
   "source": [
    "`Series` and `Index` also support the `divmod()` builtin. This function takes the floor division and modulo operation at the same time returning a two-tuple of the same type as the left hand side."
   ]
  },
  {
   "cell_type": "code",
   "execution_count": 35,
   "metadata": {},
   "outputs": [
    {
     "name": "stdout",
     "output_type": "stream",
     "text": [
      "a    0\n",
      "b    0\n",
      "c    0\n",
      "d    1\n",
      "e    1\n",
      "dtype: int32\n",
      "a    0\n",
      "b    1\n",
      "c    2\n",
      "d    0\n",
      "e    1\n",
      "dtype: int32\n",
      "a    0\n",
      "b    0\n",
      "c    0\n",
      "d    1\n",
      "e    1\n",
      "dtype: int32\n",
      "a    0\n",
      "b    1\n",
      "c    2\n",
      "d    0\n",
      "e    0\n",
      "dtype: int32\n"
     ]
    }
   ],
   "source": [
    "s = pd.Series(data=np.arange(5), index=[chr(ord('a')+i) for i in range(5)])\n",
    "div, rem = s.divmod(3)\n",
    "print(div)\n",
    "print(rem)\n",
    "div, rem = divmod(s, [2, 2, 3, 3, 4])\n",
    "print(div)\n",
    "print(rem)"
   ]
  },
  {
   "cell_type": "markdown",
   "metadata": {},
   "source": [
    "**Missing data / operations with fill values**\n",
    "\n",
    "In Series and DataFrame, the arithmetic functions have the option of inputting a `fill_value`, namely a value to substitute when at most one of the values at a location are missing.\n",
    "\n",
    "For example, when adding two DataFrame objects, you may wish to treat NaN as 0 unless both DataFrames are missing that value, in which case the result will be NaN (you can later replace NaN with some other value using `fillna` if you wish)."
   ]
  },
  {
   "cell_type": "code",
   "execution_count": 37,
   "metadata": {},
   "outputs": [
    {
     "name": "stdout",
     "output_type": "stream",
     "text": [
      "       col1      col2      col3\n",
      "a  1.252204  1.514213       NaN\n",
      "b  0.584409 -0.633071 -0.472730\n",
      "c -0.474621 -0.395959 -1.047843\n",
      "d       NaN -0.153052  0.858280\n",
      "       col1      col2      col3\n",
      "a  1.252204  1.514213  1.000000\n",
      "b  0.584409 -0.633071 -0.472730\n",
      "c -0.474621 -0.395959 -1.047843\n",
      "d       NaN -0.153052  0.858280\n",
      "       col1      col2      col3\n",
      "a  2.504408  3.028426       NaN\n",
      "b  1.168819 -1.266142 -0.945460\n",
      "c -0.949241 -0.791919 -2.095687\n",
      "d       NaN -0.306104  1.716561\n",
      "       col1      col2      col3\n",
      "a  2.504408  3.028426  1.000000\n",
      "b  1.168819 -1.266142 -0.945460\n",
      "c -0.949241 -0.791919 -2.095687\n",
      "d       NaN -0.306104  1.716561\n"
     ]
    }
   ],
   "source": [
    "df = pd.DataFrame({\n",
    "    'col1' : pd.Series(np.random.randn(3), index=['a', 'b', 'c']),\n",
    "    'col2' : pd.Series(np.random.randn(4), index=['a', 'b', 'c', 'd']),\n",
    "    'col3' : pd.Series(np.random.randn(3), index=['b', 'c', 'd'])\n",
    "})\n",
    "df2 = df.copy()\n",
    "df2.loc['a', 'col3'] = 1.0\n",
    "print(df)\n",
    "print(df2)\n",
    "print(df + df2)\n",
    "print(df.add(other=df2, fill_value=0))"
   ]
  },
  {
   "cell_type": "markdown",
   "metadata": {},
   "source": [
    "**Flexible Comparisons**"
   ]
  }
 ],
 "metadata": {
  "kernelspec": {
   "display_name": "Python 3",
   "language": "python",
   "name": "python3"
  },
  "language_info": {
   "codemirror_mode": {
    "name": "ipython",
    "version": 3
   },
   "file_extension": ".py",
   "mimetype": "text/x-python",
   "name": "python",
   "nbconvert_exporter": "python",
   "pygments_lexer": "ipython3",
   "version": "3.8.10"
  }
 },
 "nbformat": 4,
 "nbformat_minor": 2
}
