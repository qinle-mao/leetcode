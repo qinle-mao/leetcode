{
 "cells": [
  {
   "cell_type": "markdown",
   "metadata": {},
   "source": [
    "# Pandas Basics\n"
   ]
  },
  {
   "cell_type": "code",
   "execution_count": 1,
   "metadata": {},
   "outputs": [],
   "source": [
    "import numpy as np\n",
    "import pandas as pd"
   ]
  },
  {
   "cell_type": "markdown",
   "metadata": {},
   "source": [
    "## 1. Intro to Data Structures\n",
    "### 1.1 Sereies\n",
    "`Series` is a **one-dimensional labeled array** capable of holding any data type (integers, strings, floating point numbers, Python objects, etc.). The axis labels are collectively referred to as the index. \n",
    "#### 1.1.1 Object Creation\n",
    "The basic method to create a Series is to call: \n",
    "``` \n",
    "s = pd.Series(data=data, index=index)\n",
    "```"
   ]
  },
  {
   "cell_type": "code",
   "execution_count": 2,
   "metadata": {},
   "outputs": [
    {
     "name": "stdout",
     "output_type": "stream",
     "text": [
      "0    1.0\n",
      "1    3.0\n",
      "2    5.0\n",
      "3    NaN\n",
      "4    6.0\n",
      "5    8.0\n",
      "dtype: float64\n"
     ]
    }
   ],
   "source": [
    "s = pd.Series(data=[1, 3, 5, np.nan, 6, 8])\n",
    "print(s)"
   ]
  },
  {
   "cell_type": "markdown",
   "metadata": {},
   "source": [
    "**Creation from ndarray**\n",
    "\n",
    "If data is an ndarray, `index` must be the same length as `data`. If no index is passed, one will be created having values `[0, ..., len(data) - 1]`."
   ]
  },
  {
   "cell_type": "code",
   "execution_count": 3,
   "metadata": {},
   "outputs": [
    {
     "name": "stdout",
     "output_type": "stream",
     "text": [
      "a    0\n",
      "b    1\n",
      "c    2\n",
      "d    3\n",
      "e    4\n",
      "dtype: int32\n",
      "Index(['a', 'b', 'c', 'd', 'e'], dtype='object')\n"
     ]
    }
   ],
   "source": [
    "s = pd.Series(data=np.arange(5), index=['a', 'b', 'c', 'd', 'e'])\n",
    "print(s)\n",
    "print(s.index)"
   ]
  },
  {
   "cell_type": "markdown",
   "metadata": {},
   "source": [
    "**Creation from dict**\n",
    "\n",
    "If an `index` is passed, the values in data corresponding to the labels in the `index` will be pulled out. The `dtype` is the same as that of the dict"
   ]
  },
  {
   "cell_type": "code",
   "execution_count": 4,
   "metadata": {},
   "outputs": [
    {
     "name": "stdout",
     "output_type": "stream",
     "text": [
      "a    0\n",
      "b    1\n",
      "c    2\n",
      "d    3\n",
      "dtype: int64\n",
      "a    0\n",
      "c    2\n",
      "dtype: int64\n"
     ]
    }
   ],
   "source": [
    "d = {'a' : 0, 'b' : 1, 'c' : 2, 'd' : 3}\n",
    "s = pd.Series(data=d)\n",
    "print(s)\n",
    "s = pd.Series(data=d, index=['a', 'c'])\n",
    "print(s)"
   ]
  },
  {
   "cell_type": "markdown",
   "metadata": {},
   "source": [
    "**Creation from Scalar Value**\n",
    "\n",
    "If data is a scalar value, an `index` must be provided. The value will be repeated to match the length of `index`. The `dtype` is the same as that of the scalar"
   ]
  },
  {
   "cell_type": "code",
   "execution_count": 5,
   "metadata": {},
   "outputs": [
    {
     "name": "stdout",
     "output_type": "stream",
     "text": [
      "0    name\n",
      "1    name\n",
      "2    name\n",
      "3    name\n",
      "4    name\n",
      "dtype: object\n"
     ]
    }
   ],
   "source": [
    "s = pd.Series(data='name', index=[e for e in range(5)])\n",
    "print(s)"
   ]
  },
  {
   "cell_type": "markdown",
   "metadata": {},
   "source": [
    "#### 1.1.2 Series is ndarray-like and dict-like\n",
    "Series acts very similarly to a `ndarray` and is a valid argument to most NumPy functions. However, operations such as slicing will also slice the index."
   ]
  },
  {
   "cell_type": "code",
   "execution_count": 6,
   "metadata": {},
   "outputs": [
    {
     "name": "stdout",
     "output_type": "stream",
     "text": [
      "a    0\n",
      "b    1\n",
      "c    2\n",
      "d    3\n",
      "e    4\n",
      "dtype: int32\n",
      "b    1\n",
      "c    2\n",
      "dtype: int32\n",
      "e    4\n",
      "d    3\n",
      "b    1\n",
      "dtype: int32\n",
      "d    3\n",
      "e    4\n",
      "dtype: int32\n",
      "a     1.000000\n",
      "b     2.718282\n",
      "c     7.389056\n",
      "d    20.085537\n",
      "e    54.598150\n",
      "dtype: float64\n"
     ]
    }
   ],
   "source": [
    "s = pd.Series(data=np.arange(5), index=['a', 'b', 'c', 'd', 'e'])\n",
    "print(s)\n",
    "print(s[1:3])\n",
    "print(s[[4, 3, 1]])\n",
    "print(s[s > s.median()])\n",
    "print(np.exp(s))"
   ]
  },
  {
   "cell_type": "markdown",
   "metadata": {},
   "source": [
    "While Series is ndarray-like, if you need an actual ndarray, then use `Series.to_numpy()`.\n",
    "\n",
    "A key difference between Series and ndarray is that operations between Series automatically align the data based on label. Thus, you can write computations without giving consideration to whether the Series involved have the same labels. The result of an operation between unaligned Series will have the union of the indexes involved. If a label is not found in one Series or the other, the result will be marked as missing `NaN`."
   ]
  },
  {
   "cell_type": "code",
   "execution_count": 7,
   "metadata": {},
   "outputs": [
    {
     "name": "stdout",
     "output_type": "stream",
     "text": [
      "b    1\n",
      "c    2\n",
      "d    3\n",
      "e    4\n",
      "dtype: int32\n",
      "a    0\n",
      "b    1\n",
      "c    2\n",
      "d    3\n",
      "dtype: int32\n",
      "a    NaN\n",
      "b    2.0\n",
      "c    4.0\n",
      "d    6.0\n",
      "e    NaN\n",
      "dtype: float64\n"
     ]
    }
   ],
   "source": [
    "print(s[1:])\n",
    "print(s[:-1])\n",
    "print(s[1:] + s[:-1])"
   ]
  },
  {
   "cell_type": "markdown",
   "metadata": {},
   "source": [
    "A Series is also like a fixed-size dict in that you can get and set values by index label:"
   ]
  },
  {
   "cell_type": "code",
   "execution_count": 8,
   "metadata": {},
   "outputs": [
    {
     "name": "stdout",
     "output_type": "stream",
     "text": [
      "0\n",
      "a    0\n",
      "b    1\n",
      "c    2\n",
      "d    3\n",
      "e    6\n",
      "dtype: int32\n",
      "True\n",
      "False\n"
     ]
    }
   ],
   "source": [
    "print(s['a'])\n",
    "s['e'] = 6\n",
    "print(s)\n",
    "print('a' in s)\n",
    "print('g' in s)"
   ]
  },
  {
   "cell_type": "markdown",
   "metadata": {},
   "source": [
    "If a label is not contained in the index, an exception is raised. Using the `Series.get()` method, a missing label will return None or specified default."
   ]
  },
  {
   "cell_type": "code",
   "execution_count": 9,
   "metadata": {},
   "outputs": [
    {
     "name": "stdout",
     "output_type": "stream",
     "text": [
      "nan\n"
     ]
    }
   ],
   "source": [
    "print(s.get('g', default=np.nan))"
   ]
  },
  {
   "cell_type": "markdown",
   "metadata": {},
   "source": [
    "#### 1.1.3 Name attribute\n",
    "The Series name can be assigned automatically in many cases, in particular, when selecting a single column from a DataFrame, the name will be assigned the column label.\n",
    "\n",
    "You can rename a Series with the `Series.rename()` method. Note that this function returns a new object"
   ]
  },
  {
   "cell_type": "code",
   "execution_count": 10,
   "metadata": {},
   "outputs": [
    {
     "name": "stdout",
     "output_type": "stream",
     "text": [
      "0    0.589740\n",
      "1    0.403182\n",
      "2   -0.512509\n",
      "3   -1.339749\n",
      "4   -1.704309\n",
      "Name: example, dtype: float64\n",
      "new name\n"
     ]
    }
   ],
   "source": [
    "s = pd.Series(np.random.randn(5), name='example')\n",
    "print(s)\n",
    "s = s.rename('new name')\n",
    "print(s.name)"
   ]
  },
  {
   "cell_type": "markdown",
   "metadata": {},
   "source": [
    "### 1.2 DataFrame\n",
    "`DataFrame` is a 2-dimensional labeled data structure with columns of potentially different types. You can think of it like a spreadsheet or SQL table, or a dict of `Series` objects. \n",
    "#### 1.2.1 Object Creation\n",
    "**Creation from dict of Series / ndarray / list** - column by column, add index at last"
   ]
  },
  {
   "cell_type": "code",
   "execution_count": 11,
   "metadata": {},
   "outputs": [
    {
     "name": "stdout",
     "output_type": "stream",
     "text": [
      "   feature1  feature2\n",
      "a       1.0       1.0\n",
      "b       2.0       2.0\n",
      "c       3.0       3.0\n",
      "d       NaN       4.0\n",
      "Index(['a', 'b', 'c', 'd'], dtype='object')\n",
      "Index(['feature1', 'feature2'], dtype='object')\n"
     ]
    }
   ],
   "source": [
    "d = {\n",
    "    'feature1' : pd.Series([1.0, 2.0, 3.0], index=['a', 'b', 'c']),\n",
    "    'feature2' : pd.Series([1.0, 2.0, 3.0, 4.0], index=['a', 'b', 'c', 'd']),\n",
    "}\n",
    "df = pd.DataFrame(data=d)\n",
    "print(df)\n",
    "print(df.index)\n",
    "print(df.columns)"
   ]
  },
  {
   "cell_type": "markdown",
   "metadata": {},
   "source": [
    "All ndarrays must share the same length. If an index is passed, it must also be the same length as the arrays. If no index is passed, the result will be `range(n)`, where `n` is the array length."
   ]
  },
  {
   "cell_type": "code",
   "execution_count": 12,
   "metadata": {},
   "outputs": [
    {
     "name": "stdout",
     "output_type": "stream",
     "text": [
      "   feature1  feature2\n",
      "0       1.0       4.0\n",
      "1       2.0       3.0\n",
      "2       3.0       2.0\n",
      "3       4.0       1.0\n",
      "      feature1  feature2\n",
      "row1       1.0       4.0\n",
      "row2       2.0       3.0\n",
      "row3       3.0       2.0\n",
      "row4       4.0       1.0\n"
     ]
    }
   ],
   "source": [
    "d = {\n",
    "    'feature1' : [1.0, 2.0, 3.0, 4.0],\n",
    "    'feature2' : [4.0, 3.0, 2.0, 1.0]\n",
    "}\n",
    "df = pd.DataFrame(data=d)\n",
    "print(df)\n",
    "df = pd.DataFrame(data=d, index=['row1', 'row2', 'row3', 'row4'])\n",
    "print(df)"
   ]
  },
  {
   "cell_type": "markdown",
   "metadata": {},
   "source": [
    "**Creation from a list of dicts / namedtuples / dataclasses** - row by row, add index at last"
   ]
  },
  {
   "cell_type": "code",
   "execution_count": 13,
   "metadata": {},
   "outputs": [
    {
     "name": "stdout",
     "output_type": "stream",
     "text": [
      "   a   b     c\n",
      "0  1   2   NaN\n",
      "1  5  10  20.0\n",
      "      a   b     c\n",
      "row1  1   2   NaN\n",
      "row2  5  10  20.0\n"
     ]
    }
   ],
   "source": [
    "l = [\n",
    "    {'a' : 1, 'b' : 2},\n",
    "    {'a' : 5, 'b' : 10, 'c' : 20}\n",
    "]\n",
    "df = pd.DataFrame(data=l)\n",
    "print(df)\n",
    "df = pd.DataFrame(data=l, index=['row1', 'row2'])\n",
    "print(df)"
   ]
  },
  {
   "cell_type": "code",
   "execution_count": 14,
   "metadata": {},
   "outputs": [
    {
     "name": "stdout",
     "output_type": "stream",
     "text": [
      "        x  y\n",
      "point1  0  0\n",
      "point2  0  3\n",
      "point3  2  3\n"
     ]
    }
   ],
   "source": [
    "from collections import namedtuple\n",
    "Point = namedtuple(typename='Point', field_names='x y')\n",
    "l = [Point(0, 0), Point(0, 3), Point(2, 3)]\n",
    "df = pd.DataFrame(data=l, index=['point1', 'point2', 'point3'])\n",
    "print(df)"
   ]
  },
  {
   "cell_type": "code",
   "execution_count": 15,
   "metadata": {},
   "outputs": [
    {
     "name": "stdout",
     "output_type": "stream",
     "text": [
      "   x  y  z\n",
      "0  0  0  0\n",
      "1  0  3  5\n",
      "2  2  3  1\n"
     ]
    }
   ],
   "source": [
    "from dataclasses import make_dataclass\n",
    "Point_3D = make_dataclass(cls_name='Point_3D', fields=[('x', int), ('y', int), ('z', int)])\n",
    "l = [Point_3D(0, 0, 0), Point_3D(0, 3, 5), Point_3D(2, 3, 1)]\n",
    "df = pd.DataFrame(data=l)\n",
    "print(df)"
   ]
  },
  {
   "cell_type": "markdown",
   "metadata": {},
   "source": [
    "**Creation by `DataFrame.from_dict()`**\n",
    "\n",
    "It operates like the DataFrame constructor except for the orient parameter which is 'columns' by default, but which can be set to 'index' in order to use the dict keys as row labels."
   ]
  },
  {
   "cell_type": "code",
   "execution_count": 16,
   "metadata": {},
   "outputs": [
    {
     "name": "stdout",
     "output_type": "stream",
     "text": [
      "   a  b\n",
      "0  1  4\n",
      "1  2  5\n",
      "2  3  6\n",
      "   0  1  2\n",
      "a  1  2  3\n",
      "b  4  5  6\n"
     ]
    }
   ],
   "source": [
    "d = {\n",
    "    'a' : [1, 2, 3],\n",
    "    'b' : [4, 5, 6]\n",
    "}\n",
    "df = pd.DataFrame.from_dict(data=d, orient='columns') # default\n",
    "print(df)\n",
    "df = pd.DataFrame.from_dict(data=d, orient='index')\n",
    "print(df)"
   ]
  },
  {
   "cell_type": "markdown",
   "metadata": {},
   "source": [
    "![](./src/img/001.png)"
   ]
  },
  {
   "cell_type": "markdown",
   "metadata": {},
   "source": [
    "#### 1.2.2 Basic Column Operations"
   ]
  },
  {
   "cell_type": "code",
   "execution_count": 17,
   "metadata": {},
   "outputs": [
    {
     "name": "stdout",
     "output_type": "stream",
     "text": [
      "        x  y\n",
      "point1  0  0\n",
      "point2  2  1\n",
      "point3  1  5\n",
      "point1    0\n",
      "point2    2\n",
      "point3    1\n",
      "Name: x, dtype: int64\n",
      "        x  y  z\n",
      "point1  0  0  0\n",
      "point2  2  1  3\n",
      "point3  1  5  6\n",
      "        x  y  z   flag\n",
      "point1  0  0  0  False\n",
      "point2  2  1  3   True\n",
      "point3  1  5  6   True\n",
      "        x  y  z   flag  xxx\n",
      "point1  0  0  0  False    0\n",
      "point2  2  1  3   True    0\n",
      "point3  1  5  6   True    0\n",
      "        x  y  z   flag\n",
      "point1  0  0  0  False\n",
      "point2  2  1  3   True\n",
      "point3  1  5  6   True\n",
      "        x  y  z\n",
      "point1  0  0  0\n",
      "point2  2  1  3\n",
      "point3  1  5  6\n",
      "point1    False\n",
      "point2     True\n",
      "point3     True\n",
      "Name: flag, dtype: bool\n"
     ]
    }
   ],
   "source": [
    "l = [{'x' : 0, 'y' : 0}, {'x' : 2 , 'y' : 1}, {'x' : 1, 'y' : 5}]\n",
    "df = pd.DataFrame(data=l, index=['point1', 'point2', 'point3'])\n",
    "print(df)\n",
    "print(df['x']) # selection\n",
    "df['z'] = df['x'] + df['y'] # Series addition & insertion\n",
    "print(df)\n",
    "df['flag'] = df['z'] > 2\n",
    "print(df)\n",
    "df['xxx'] = 0 # scalar insertion\n",
    "print(df)\n",
    "del df['xxx'] # deletion\n",
    "print(df)\n",
    "featureFlag = df.pop('flag') # pop feature Series\n",
    "print(df)\n",
    "print(featureFlag)"
   ]
  },
  {
   "cell_type": "markdown",
   "metadata": {},
   "source": [
    "When inserting a `Series` that does not have the same index as the DataFrame, it will be conformed to the DataFrame’s index.\n",
    "\n",
    "By default, columns get inserted at the end. `DataFrame.insert()` inserts at a particular location in the columns."
   ]
  },
  {
   "cell_type": "code",
   "execution_count": 18,
   "metadata": {},
   "outputs": [
    {
     "name": "stdout",
     "output_type": "stream",
     "text": [
      "        x  y  z  xxx\n",
      "point1  0  0  0  1.0\n",
      "point2  2  1  3  2.0\n",
      "point3  1  5  6  NaN\n",
      "        x  yyy  y  z  xxx\n",
      "point1  0    1  0  0  1.0\n",
      "point2  2    2  1  3  2.0\n",
      "point3  1    3  5  6  NaN\n"
     ]
    }
   ],
   "source": [
    "df['xxx'] = pd.Series({'point1' : 1, 'point2' : 2})\n",
    "print(df)\n",
    "df.insert(loc=1, column='yyy', value=pd.Series(data=[1, 2, 3], index=df.index))\n",
    "print(df)"
   ]
  },
  {
   "cell_type": "markdown",
   "metadata": {},
   "source": [
    "**Assigning new columns in method chains**"
   ]
  },
  {
   "cell_type": "markdown",
   "metadata": {},
   "source": [
    "`DataFrame` has an `assign()` method that allows you to easily create new columns that are potentially derived from existing columns.\n",
    "\n",
    "Note that this function always returns a copy of the data, leaving the original DataFrame untouched."
   ]
  },
  {
   "cell_type": "code",
   "execution_count": 19,
   "metadata": {},
   "outputs": [
    {
     "name": "stdout",
     "output_type": "stream",
     "text": [
      "   SepalLength  SepalWidth  PetalLength  PetalWidth         Name\n",
      "0          5.1         3.5          1.4         0.2  Iris-setosa\n",
      "1          4.9         3.0          1.4         0.2  Iris-setosa\n",
      "2          4.7         3.2          1.3         0.2  Iris-setosa\n",
      "3          4.6         3.1          1.5         0.2  Iris-setosa\n",
      "4          5.0         3.6          1.4         0.2  Iris-setosa\n",
      "   SepalLength  SepalWidth  PetalLength  PetalWidth         Name  sepal_ratio\n",
      "0          5.1         3.5          1.4         0.2  Iris-setosa     0.686275\n",
      "1          4.9         3.0          1.4         0.2  Iris-setosa     0.612245\n",
      "2          4.7         3.2          1.3         0.2  Iris-setosa     0.680851\n",
      "3          4.6         3.1          1.5         0.2  Iris-setosa     0.673913\n",
      "4          5.0         3.6          1.4         0.2  Iris-setosa     0.720000\n"
     ]
    }
   ],
   "source": [
    "iris = pd.read_csv('data/iris.data')\n",
    "print(iris.head())\n",
    "iris_2 = iris.assign(sepal_ratio=iris['SepalWidth'] / iris['SepalLength'])\n",
    "print(iris_2.head())"
   ]
  },
  {
   "cell_type": "code",
   "execution_count": 20,
   "metadata": {},
   "outputs": [
    {
     "data": {
      "text/plain": [
       "<Axes: xlabel='SepalRatio', ylabel='PetalRatio'>"
      ]
     },
     "execution_count": 20,
     "metadata": {},
     "output_type": "execute_result"
    },
    {
     "data": {
      "image/png": "[encoded data removed]",
      "text/plain": [
       "<Figure size 640x480 with 1 Axes>"
      ]
     },
     "metadata": {},
     "output_type": "display_data"
    }
   ],
   "source": [
    "iris.query('SepalLength > 5').assign(\n",
    "    SepalRatio=lambda x : x.SepalWidth / x.SepalLength,\n",
    "    PetalRatio=lambda x : x.PetalWidth / x.PetalLength,\n",
    ").plot(kind='scatter', x='SepalRatio', y='PetalRatio')"
   ]
  },
  {
   "cell_type": "markdown",
   "metadata": {},
   "source": [
    "#### 1.2.3 Basic Row Operations\n",
    "**Indexing and selection**\n",
    "\n",
    "`.loc[]` is primarily label based, but may also be used with a boolean array. `KeyError` will be raised when the items are not found. Allowed inputs are:\n",
    "- A single label, e.g. `df.loc[5]` or `df.loc['a']` (note that 5 is interpreted as a label, not an integer position).\n",
    "- A list or array of labels, e.g. `df.loc[['a', 'b', 'c']]`.\n",
    "- A slice object with labels, e.g. `df.loc['a':'f']` (note that start and the stop are both included!).\n",
    "- A boolean array, e.g. `df.loc[[True, False, False, True]]`.\n",
    "- A callable function with one argument and that returns valid output for indexing (one of the above).\n",
    "- A tuple of row (and column) indices whose elements are one of the above inputs.\n",
    "\n",
    "`.iloc[]` is primarily integer position based, but may also be used with a boolean array. Allowed inputs are similar to that above."
   ]
  },
  {
   "cell_type": "code",
   "execution_count": 21,
   "metadata": {},
   "outputs": [
    {
     "name": "stdout",
     "output_type": "stream",
     "text": [
      "      a  b\n",
      "row1  1  5\n",
      "row2  2  6\n",
      "row3  3  7\n",
      "row4  4  8\n",
      "a    2\n",
      "b    6\n",
      "Name: row2, dtype: int64\n",
      "a    3\n",
      "b    7\n",
      "Name: row3, dtype: int64\n",
      "      a  b\n",
      "row2  2  6\n",
      "row3  3  7\n",
      "      a  b\n",
      "row1  1  5\n",
      "row4  4  8\n"
     ]
    }
   ],
   "source": [
    "df = pd.DataFrame({\n",
    "    'a' : [1, 2, 3, 4],\n",
    "    'b' : [5, 6, 7, 8],\n",
    "}, index=['row1', 'row2', 'row3', 'row4'])\n",
    "print(df)\n",
    "# select row by label\n",
    "print(df.loc['row2']) \n",
    "# select row by integer location\n",
    "print(df.iloc[2]) \n",
    "# slice rows\n",
    "print(df[1:3]) \n",
    "# select rows by boolean vector\n",
    "print(df[[True, False, False, True]])"
   ]
  },
  {
   "cell_type": "markdown",
   "metadata": {},
   "source": [
    "**Data alignment and arithmetic**\n",
    "\n",
    "Data alignment between DataFrame objects automatically align on both the columns and the index (row labels). Again, the resulting object will have the union of the column and row labels."
   ]
  },
  {
   "cell_type": "code",
   "execution_count": 22,
   "metadata": {},
   "outputs": [
    {
     "name": "stdout",
     "output_type": "stream",
     "text": [
      "          A         B         C   D\n",
      "0 -0.174138  0.420312 -0.405069 NaN\n",
      "1 -3.996077 -1.494883 -0.076563 NaN\n",
      "2  2.018239 -1.101472 -1.556562 NaN\n",
      "3 -1.159936 -2.758258  0.955675 NaN\n",
      "4 -1.644866 -0.133045 -1.371091 NaN\n",
      "5  0.949457  0.820472  1.379973 NaN\n",
      "6  0.615635 -0.282101 -0.398174 NaN\n",
      "7       NaN       NaN       NaN NaN\n",
      "8       NaN       NaN       NaN NaN\n",
      "9       NaN       NaN       NaN NaN\n"
     ]
    }
   ],
   "source": [
    "df1 = pd.DataFrame(np.random.randn(10, 4), columns=['A', 'B', 'C', 'D'])\n",
    "df2 = pd.DataFrame(np.random.randn(7, 3), columns=['A', 'B', 'C'])\n",
    "print(df1 + df2)"
   ]
  },
  {
   "cell_type": "markdown",
   "metadata": {},
   "source": [
    "When doing an operation between DataFrame and Series, the default behavior is to align the Series index on the DataFrame columns, thus **broadcasting row-wise**. "
   ]
  },
  {
   "cell_type": "code",
   "execution_count": 23,
   "metadata": {},
   "outputs": [
    {
     "name": "stdout",
     "output_type": "stream",
     "text": [
      "          A         B         C         D\n",
      "0  0.000000  0.000000  0.000000  0.000000\n",
      "1 -1.129187 -1.506107  2.910101  2.297255\n",
      "2  2.621786 -0.253481  0.285668  0.492198\n",
      "3 -0.015349 -3.421815  1.946841  2.315705\n",
      "4 -1.323214 -0.265518  1.246812  2.210746\n",
      "5  1.676143  1.316888  3.073187  0.497691\n",
      "6  0.065024 -2.041205  1.001616  1.761696\n",
      "7  0.858012  0.013783  0.645013  1.334758\n",
      "8  0.910952 -0.439021 -0.815183  0.736534\n",
      "9 -0.105546 -1.514933  1.027157  1.353214\n"
     ]
    }
   ],
   "source": [
    "print(df1 - df1.iloc[0])"
   ]
  },
  {
   "cell_type": "markdown",
   "metadata": {},
   "source": [
    "Arithmetic operations with scalars operate element-wise. Boolean operators operate element-wise as well.\n",
    "\n",
    "#### 1.2.4 Transposing\n",
    "To transpose, access the `T` attribute or `DataFrame.transpose()`, similar to an `ndarray`:"
   ]
  },
  {
   "cell_type": "code",
   "execution_count": 24,
   "metadata": {},
   "outputs": [
    {
     "name": "stdout",
     "output_type": "stream",
     "text": [
      "   row1  row2  row3  row4\n",
      "a     1     2     3     4\n",
      "b     5     6     7     8\n"
     ]
    }
   ],
   "source": [
    "print(df[:5].T)"
   ]
  },
  {
   "cell_type": "markdown",
   "metadata": {},
   "source": [
    "#### 1.2.5 DataFrame interoperability with NumPy functions\n",
    "Most NumPy functions can be called directly on `Series` and `DataFrame`."
   ]
  },
  {
   "cell_type": "code",
   "execution_count": 25,
   "metadata": {},
   "outputs": [
    {
     "name": "stdout",
     "output_type": "stream",
     "text": [
      "          A         B         C         D\n",
      "0  0.737454 -1.655354  0.091289 -0.301453\n",
      "1 -0.950563  1.141927 -0.189950 -1.933659\n",
      "2 -0.948693 -0.785489  0.904812  0.293918\n",
      "3  0.487861 -0.232455 -0.902498  1.490401\n",
      "4  0.739368 -0.342658  0.664331 -0.613484\n",
      "5  1.897567  1.395417  2.677618  0.519177\n",
      "6 -1.626630  0.367716 -0.557532 -0.879213\n",
      "7 -1.485970  0.467882 -0.330232  1.252988\n",
      "8  0.235787  0.132291  0.358204 -0.381554\n",
      "9 -0.103886 -1.235147 -0.516849 -2.181342\n",
      "          A         B          C         D\n",
      "0  2.090606  0.191024   1.095586  0.739742\n",
      "1  0.386523  3.132801   0.827000  0.144618\n",
      "2  0.387247  0.455896   2.471468  1.341674\n",
      "3  1.628829  0.792586   0.405555  4.438874\n",
      "4  2.094610  0.709881   1.943190  0.541461\n",
      "5  6.669650  4.036657  14.550397  1.680644\n",
      "6  0.196591  1.444431   0.572620  0.415110\n",
      "7  0.226283  1.596609   0.718757  3.500789\n",
      "8  1.265905  1.141441   1.430757  0.682799\n",
      "9  0.901328  0.290792   0.596397  0.112890\n",
      "[[ 0.73745394 -1.65535433  0.09128911 -0.30145319]\n",
      " [-0.95056329  1.14192747 -0.18995004 -1.93365918]\n",
      " [-0.94869284 -0.78548947  0.90481237  0.29391796]\n",
      " [ 0.48786118 -0.23245462 -0.90249778  1.49040064]\n",
      " [ 0.73936755 -0.34265819  0.66433112 -0.61348427]\n",
      " [ 1.89756746  1.39541698  2.67761829  0.5191772 ]\n",
      " [-1.62663012  0.36771552 -0.55753245 -0.87921279]\n",
      " [-1.48596957  0.46788214 -0.33023208  1.25298842]\n",
      " [ 0.23578696  0.13229108  0.35820388 -0.38155416]\n",
      " [-0.10388625 -1.23514708 -0.51684864 -2.18134177]]\n"
     ]
    }
   ],
   "source": [
    "df = pd.DataFrame(np.random.randn(10, 4), columns=['A', 'B', 'C', 'D'])\n",
    "print(df)\n",
    "print(np.exp(df))\n",
    "print(np.asarray(df))"
   ]
  },
  {
   "cell_type": "markdown",
   "metadata": {},
   "source": [
    "#### 1.2.6 Console Display"
   ]
  },
  {
   "cell_type": "code",
   "execution_count": 26,
   "metadata": {},
   "outputs": [
    {
     "name": "stdout",
     "output_type": "stream",
     "text": [
      "   SepalLength  SepalWidth  PetalLength  PetalWidth         Name\n",
      "0          5.1         3.5          1.4         0.2  Iris-setosa\n",
      "1          4.9         3.0          1.4         0.2  Iris-setosa\n",
      "2          4.7         3.2          1.3         0.2  Iris-setosa\n",
      "3          4.6         3.1          1.5         0.2  Iris-setosa\n",
      "4          5.0         3.6          1.4         0.2  Iris-setosa\n",
      "<class 'pandas.core.frame.DataFrame'>\n",
      "RangeIndex: 150 entries, 0 to 149\n",
      "Data columns (total 5 columns):\n",
      " #   Column       Non-Null Count  Dtype  \n",
      "---  ------       --------------  -----  \n",
      " 0   SepalLength  150 non-null    float64\n",
      " 1   SepalWidth   150 non-null    float64\n",
      " 2   PetalLength  150 non-null    float64\n",
      " 3   PetalWidth   150 non-null    float64\n",
      " 4   Name         150 non-null    object \n",
      "dtypes: float64(4), object(1)\n",
      "memory usage: 6.0+ KB\n",
      "None\n",
      "   SepalLength  SepalWidth  PetalLength  PetalWidth         Name\n",
      "0          5.1         3.5          1.4         0.2  Iris-setosa\n",
      "1          4.9         3.0          1.4         0.2  Iris-setosa\n",
      "2          4.7         3.2          1.3         0.2  Iris-setosa\n",
      "     SepalLength  SepalWidth  PetalLength  PetalWidth            Name\n",
      "145          6.7         3.0          5.2         2.3  Iris-virginica\n",
      "146          6.3         2.5          5.0         1.9  Iris-virginica\n",
      "147          6.5         3.0          5.2         2.0  Iris-virginica\n",
      "148          6.2         3.4          5.4         2.3  Iris-virginica\n",
      "149          5.9         3.0          5.1         1.8  Iris-virginica\n"
     ]
    }
   ],
   "source": [
    "iris = pd.read_csv('./data/iris.data')\n",
    "print(iris.head())\n",
    "print(iris.info())\n",
    "print(iris.head(n=3))\n",
    "print(iris.tail())"
   ]
  },
  {
   "cell_type": "markdown",
   "metadata": {},
   "source": [
    "## 2. Essential Basic Functionality"
   ]
  },
  {
   "cell_type": "markdown",
   "metadata": {},
   "source": [
    "### 2.1 Attributes And Underlying Data\n",
    "`array` will always be an `ExtensionArray`. If you know you need a NumPy array, use `to_numpy()` or `numpy.asarray()`.\n",
    "\n",
    "When your DataFrame only has a single data type for all the columns, `DataFrame.to_numpy()` will return the underlying data."
   ]
  },
  {
   "cell_type": "code",
   "execution_count": 27,
   "metadata": {},
   "outputs": [
    {
     "name": "stdout",
     "output_type": "stream",
     "text": [
      "<PandasArray>\n",
      "[-0.9619194996447669,  0.8778913860638891, 0.21915214889908577,\n",
      "  -2.907729973911701, -0.3027929578084035]\n",
      "Length: 5, dtype: float64\n",
      "<PandasArray>\n",
      "['a', 'b', 'c', 'd', 'e']\n",
      "Length: 5, dtype: object\n",
      "<PandasArray>\n",
      "['A', 'B', 'C']\n",
      "Length: 3, dtype: object\n",
      "<DatetimeArray>\n",
      "['2000-01-01 00:00:00', '2000-01-02 00:00:00', '2000-01-03 00:00:00',\n",
      " '2000-01-04 00:00:00', '2000-01-05 00:00:00', '2000-01-06 00:00:00',\n",
      " '2000-01-07 00:00:00', '2000-01-08 00:00:00']\n",
      "Length: 8, dtype: datetime64[ns]\n",
      "[[ 1.47466663 -1.66672648  0.36093631]\n",
      " [-1.43779615  0.94133992 -2.30297705]\n",
      " [-0.36166126  0.75220216  0.85741671]\n",
      " [ 0.00687197  0.97506181 -1.20848174]\n",
      " [-0.84618865 -0.73862615 -0.5398994 ]\n",
      " [ 1.22059054 -0.11323074  1.68065812]\n",
      " [ 1.73007067  1.02852355  0.10348923]\n",
      " [ 2.20403945 -2.21449596  1.22665939]]\n"
     ]
    }
   ],
   "source": [
    "s = pd.Series(np.random.randn(5), index=['a', 'b', 'c', 'd', 'e'])\n",
    "df = pd.DataFrame(data=np.random.randn(8, 3), index=pd.date_range('1/1/2000', periods=8), columns=['A', 'B', 'C'])\n",
    "print(s.array)\n",
    "print(s.index.array)\n",
    "print(df.columns.array)\n",
    "print(df.index.array)\n",
    "print(df.to_numpy())"
   ]
  },
  {
   "cell_type": "markdown",
   "metadata": {},
   "source": [
    "### 2.2 Flexible Binary Operations\n",
    "With binary operations between pandas data structures, there are two key points of interest:\n",
    "- Broadcasting behavior between higher- (e.g. DataFrame) and lower-dimensional (e.g. Series) objects.\n",
    "- Missing data in computations.\n",
    "\n",
    "**Matching / broadcasting behavior**\n",
    "\n",
    "DataFrame has the methods `add()`, `sub()`, `mul()`, `div()` and related functions `radd()`, `rsub()`, … for carrying out binary operations. \n",
    "\n",
    "For broadcasting behavior, Series input is of primary interest. Using these functions, you can use to either match on the `'index'` or `'columns'` via the axis keyword."
   ]
  },
  {
   "cell_type": "code",
   "execution_count": 28,
   "metadata": {},
   "outputs": [
    {
     "name": "stdout",
     "output_type": "stream",
     "text": [
      "       col1      col2      col3\n",
      "a -0.878962  1.372528       NaN\n",
      "b  1.490474 -0.040159 -0.204072\n",
      "c -0.322849 -0.233900  0.023389\n",
      "d       NaN -0.292341  0.206454\n",
      "       col1      col2      col3\n",
      "a -2.369436  1.412687       NaN\n",
      "b  0.000000  0.000000  0.000000\n",
      "c -1.813322 -0.193741  0.227461\n",
      "d       NaN -0.252182  0.410526\n",
      "       col1      col2      col3\n",
      "a  0.493566  2.745056       NaN\n",
      "b  1.450315 -0.080318 -0.244230\n",
      "c -0.556749 -0.467800 -0.210511\n",
      "d       NaN -0.584683 -0.085887\n"
     ]
    }
   ],
   "source": [
    "df = pd.DataFrame({\n",
    "    'col1' : pd.Series(np.random.randn(3), index=['a', 'b', 'c']),\n",
    "    'col2' : pd.Series(np.random.randn(4), index=['a', 'b', 'c', 'd']),\n",
    "    'col3' : pd.Series(np.random.randn(3), index=['b', 'c', 'd'])\n",
    "})\n",
    "print(df)\n",
    "row = df.iloc[1]\n",
    "print(df.sub(other=row, axis='columns'))\n",
    "col = df['col2']\n",
    "print(df.add(other=col, axis='index'))"
   ]
  },
  {
   "cell_type": "markdown",
   "metadata": {},
   "source": [
    "`Series` and `Index` also support the `divmod()` builtin. This function takes the floor division and modulo operation at the same time returning a two-tuple of the same type as the left hand side."
   ]
  },
  {
   "cell_type": "code",
   "execution_count": 29,
   "metadata": {},
   "outputs": [
    {
     "name": "stdout",
     "output_type": "stream",
     "text": [
      "a    0\n",
      "b    0\n",
      "c    0\n",
      "d    1\n",
      "e    1\n",
      "dtype: int32\n",
      "a    0\n",
      "b    1\n",
      "c    2\n",
      "d    0\n",
      "e    1\n",
      "dtype: int32\n",
      "a    0\n",
      "b    0\n",
      "c    0\n",
      "d    1\n",
      "e    1\n",
      "dtype: int32\n",
      "a    0\n",
      "b    1\n",
      "c    2\n",
      "d    0\n",
      "e    0\n",
      "dtype: int32\n"
     ]
    }
   ],
   "source": [
    "s = pd.Series(data=np.arange(5), index=[chr(ord('a')+i) for i in range(5)])\n",
    "div, rem = s.divmod(3)\n",
    "print(div)\n",
    "print(rem)\n",
    "div, rem = divmod(s, [2, 2, 3, 3, 4])\n",
    "print(div)\n",
    "print(rem)"
   ]
  },
  {
   "cell_type": "markdown",
   "metadata": {},
   "source": [
    "**Missing data / operations with fill values**\n",
    "\n",
    "In Series and DataFrame, the arithmetic functions have the option of inputting a `fill_value`, namely a value to substitute when at most one of the values at a location are missing.\n",
    "\n",
    "For example, when adding two DataFrame objects, you may wish to treat NaN as 0 unless both DataFrames are missing that value, in which case the result will be NaN (you can later replace NaN with some other value using `fillna` if you wish)."
   ]
  },
  {
   "cell_type": "code",
   "execution_count": 30,
   "metadata": {},
   "outputs": [
    {
     "name": "stdout",
     "output_type": "stream",
     "text": [
      "       col1      col2      col3\n",
      "a -0.081572 -0.125143       NaN\n",
      "b -0.772313  0.179996 -2.121870\n",
      "c  0.749168 -0.645474 -0.554857\n",
      "d       NaN  1.694115  1.455963\n",
      "       col1      col2      col3\n",
      "a -0.081572 -0.125143  1.000000\n",
      "b -0.772313  0.179996 -2.121870\n",
      "c  0.749168 -0.645474 -0.554857\n",
      "d       NaN  1.694115  1.455963\n",
      "       col1      col2      col3\n",
      "a -0.163144 -0.250285       NaN\n",
      "b -1.544626  0.359992 -4.243740\n",
      "c  1.498336 -1.290948 -1.109714\n",
      "d       NaN  3.388229  2.911927\n",
      "       col1      col2      col3\n",
      "a -0.163144 -0.250285  1.000000\n",
      "b -1.544626  0.359992 -4.243740\n",
      "c  1.498336 -1.290948 -1.109714\n",
      "d       NaN  3.388229  2.911927\n"
     ]
    }
   ],
   "source": [
    "df = pd.DataFrame({\n",
    "    'col1' : pd.Series(np.random.randn(3), index=['a', 'b', 'c']),\n",
    "    'col2' : pd.Series(np.random.randn(4), index=['a', 'b', 'c', 'd']),\n",
    "    'col3' : pd.Series(np.random.randn(3), index=['b', 'c', 'd'])\n",
    "})\n",
    "df2 = df.copy()\n",
    "df2.loc['a', 'col3'] = 1.0\n",
    "print(df)\n",
    "print(df2)\n",
    "print(df + df2)\n",
    "print(df.add(other=df2, fill_value=0))"
   ]
  },
  {
   "cell_type": "markdown",
   "metadata": {},
   "source": [
    "**Flexible comparisons**\n",
    "\n",
    "Series and DataFrame have the binary comparison methods `eq`, `ne`, `lt`, `gt`, `le`, and `ge`:"
   ]
  },
  {
   "cell_type": "code",
   "execution_count": 31,
   "metadata": {},
   "outputs": [
    {
     "name": "stdout",
     "output_type": "stream",
     "text": [
      "    col1   col2   col3\n",
      "a  False  False  False\n",
      "b  False  False  False\n",
      "c  False  False  False\n",
      "d  False  False  False\n",
      "    col1   col2   col3\n",
      "a  False  False   True\n",
      "b  False  False  False\n",
      "c  False  False  False\n",
      "d   True  False  False\n"
     ]
    }
   ],
   "source": [
    "print(df.gt(df2))\n",
    "print(df.ne(df2)) # nan is not equal to nan"
   ]
  },
  {
   "cell_type": "markdown",
   "metadata": {},
   "source": [
    "**Boolean reductions**\n",
    "\n",
    "You can apply the reductions: `empty`, `any()`, `all()`, and `bool()` to provide a way to summarize a boolean result."
   ]
  },
  {
   "cell_type": "code",
   "execution_count": 33,
   "metadata": {},
   "outputs": [
    {
     "name": "stdout",
     "output_type": "stream",
     "text": [
      "col1    False\n",
      "col2    False\n",
      "col3    False\n",
      "dtype: bool\n",
      "col1    True\n",
      "col2    True\n",
      "col3    True\n",
      "dtype: bool\n",
      "True\n"
     ]
    }
   ],
   "source": [
    "# apply to every conlumns(features)\n",
    "print((df > 0).all())\n",
    "print((df > 0).any())\n",
    "print((df > 0).any().any()) # you can reduce to a final boolean value"
   ]
  },
  {
   "cell_type": "code",
   "execution_count": 35,
   "metadata": {},
   "outputs": [
    {
     "name": "stdout",
     "output_type": "stream",
     "text": [
      "False\n",
      "True\n",
      "False\n"
     ]
    }
   ],
   "source": [
    "print(df.empty)\n",
    "print(pd.DataFrame(columns=['A', 'B', 'C']).empty)\n",
    "print(pd.DataFrame(columns=['A', 'B', 'C'], index=['1', '2']).empty)"
   ]
  },
  {
   "cell_type": "markdown",
   "metadata": {},
   "source": [
    "**Comparing if objects are equivalent**"
   ]
  },
  {
   "cell_type": "code",
   "execution_count": 38,
   "metadata": {},
   "outputs": [
    {
     "name": "stdout",
     "output_type": "stream",
     "text": [
      "    col1  col2   col3\n",
      "a   True  True  False\n",
      "b   True  True   True\n",
      "c   True  True   True\n",
      "d  False  True   True\n",
      "col1    False\n",
      "col2     True\n",
      "col3    False\n",
      "dtype: bool\n"
     ]
    }
   ],
   "source": [
    "print(df + df == df * 2)\n",
    "print((df + df == df * 2).all())"
   ]
  }
 ],
 "metadata": {
  "kernelspec": {
   "display_name": "Python 3",
   "language": "python",
   "name": "python3"
  },
  "language_info": {
   "codemirror_mode": {
    "name": "ipython",
    "version": 3
   },
   "file_extension": ".py",
   "mimetype": "text/x-python",
   "name": "python",
   "nbconvert_exporter": "python",
   "pygments_lexer": "ipython3",
   "version": "3.8.10"
  }
 },
 "nbformat": 4,
 "nbformat_minor": 2
}
